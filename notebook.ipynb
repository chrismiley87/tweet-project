{
 "cells": [
  {
   "cell_type": "markdown",
   "metadata": {},
   "source": [
    "# Twitter Sentiment and Modeling"
   ]
  },
  {
   "cell_type": "markdown",
   "metadata": {},
   "source": [
    "## Overview\n",
    "\n",
    "This project utilizes a dataset from CrowdFlower, analyzing and rating the sentiment of Twitter users regarding Apple and Google products by building an NLP model. Human raters rated the sentiment in over 9,000 Tweets as positive, negative, or neither."
   ]
  },
  {
   "cell_type": "markdown",
   "metadata": {},
   "source": [
    "## Business Problem\n",
    "\n",
    "Apple and Google want to gather information on the consensus of their products. They are looking at Twitter as a medium to gather that information. The task is to build a model that can rate the sentiment of a Tweet based on its content."
   ]
  },
  {
   "cell_type": "markdown",
   "metadata": {},
   "source": [
    "## Data Understanding\n",
    "\n",
    "The dataset used for this project is a csv file (\"data.csv\"), containing over 9,000 Tweets about Apple and Google products. Human raters rated the sentiment as positive, negative, or neither. The target column is the sentiment column."
   ]
  },
  {
   "cell_type": "markdown",
   "metadata": {},
   "source": [
    "### Import Libraries\n",
    "\n",
    "First thing we did was import the necessary libraries for analysis, visualization, preprocessing data, and building models, as well as ignore warnings."
   ]
  },
  {
   "cell_type": "code",
   "execution_count": 52,
   "metadata": {},
   "outputs": [
    {
     "name": "stderr",
     "output_type": "stream",
     "text": [
      "[nltk_data] Downloading package punkt to /Users/Chris/nltk_data...\n",
      "[nltk_data]   Package punkt is already up-to-date!\n",
      "[nltk_data] Downloading package averaged_perceptron_tagger to\n",
      "[nltk_data]     /Users/Chris/nltk_data...\n",
      "[nltk_data]   Package averaged_perceptron_tagger is already up-to-\n",
      "[nltk_data]       date!\n",
      "[nltk_data] Downloading package wordnet to /Users/Chris/nltk_data...\n",
      "[nltk_data]   Package wordnet is already up-to-date!\n"
     ]
    }
   ],
   "source": [
    "#import necessary libraries\n",
    "import pandas as pd\n",
    "import matplotlib.pyplot as plt\n",
    "from matplotlib.ticker import MaxNLocator\n",
    "\n",
    "import nltk\n",
    "from nltk import FreqDist\n",
    "from nltk.corpus import stopwords\n",
    "from nltk.tokenize import RegexpTokenizer\n",
    "from nltk.stem import PorterStemmer\n",
    "\n",
    "nltk.download('punkt')\n",
    "nltk.download('averaged_perceptron_tagger')\n",
    "nltk.download('wordnet')\n",
    "\n",
    "import string\n",
    "\n",
    "from wordcloud import WordCloud\n",
    "\n",
    "from collections import Counter"
   ]
  },
  {
   "cell_type": "markdown",
   "metadata": {},
   "source": [
    "### Data Inspection\n",
    "\n",
    "We proceeded to load the csv dataset, then look at the shape, size, column names and data types, as well as check for missing or duplicate entries."
   ]
  },
  {
   "cell_type": "code",
   "execution_count": 2,
   "metadata": {},
   "outputs": [
    {
     "data": {
      "text/html": [
       "<div>\n",
       "<style scoped>\n",
       "    .dataframe tbody tr th:only-of-type {\n",
       "        vertical-align: middle;\n",
       "    }\n",
       "\n",
       "    .dataframe tbody tr th {\n",
       "        vertical-align: top;\n",
       "    }\n",
       "\n",
       "    .dataframe thead th {\n",
       "        text-align: right;\n",
       "    }\n",
       "</style>\n",
       "<table border=\"1\" class=\"dataframe\">\n",
       "  <thead>\n",
       "    <tr style=\"text-align: right;\">\n",
       "      <th></th>\n",
       "      <th>tweet_text</th>\n",
       "      <th>emotion_in_tweet_is_directed_at</th>\n",
       "      <th>is_there_an_emotion_directed_at_a_brand_or_product</th>\n",
       "    </tr>\n",
       "  </thead>\n",
       "  <tbody>\n",
       "    <tr>\n",
       "      <th>0</th>\n",
       "      <td>.@wesley83 I have a 3G iPhone. After 3 hrs twe...</td>\n",
       "      <td>iPhone</td>\n",
       "      <td>Negative emotion</td>\n",
       "    </tr>\n",
       "    <tr>\n",
       "      <th>1</th>\n",
       "      <td>@jessedee Know about @fludapp ? Awesome iPad/i...</td>\n",
       "      <td>iPad or iPhone App</td>\n",
       "      <td>Positive emotion</td>\n",
       "    </tr>\n",
       "    <tr>\n",
       "      <th>2</th>\n",
       "      <td>@swonderlin Can not wait for #iPad 2 also. The...</td>\n",
       "      <td>iPad</td>\n",
       "      <td>Positive emotion</td>\n",
       "    </tr>\n",
       "    <tr>\n",
       "      <th>3</th>\n",
       "      <td>@sxsw I hope this year's festival isn't as cra...</td>\n",
       "      <td>iPad or iPhone App</td>\n",
       "      <td>Negative emotion</td>\n",
       "    </tr>\n",
       "    <tr>\n",
       "      <th>4</th>\n",
       "      <td>@sxtxstate great stuff on Fri #SXSW: Marissa M...</td>\n",
       "      <td>Google</td>\n",
       "      <td>Positive emotion</td>\n",
       "    </tr>\n",
       "  </tbody>\n",
       "</table>\n",
       "</div>"
      ],
      "text/plain": [
       "                                          tweet_text  \\\n",
       "0  .@wesley83 I have a 3G iPhone. After 3 hrs twe...   \n",
       "1  @jessedee Know about @fludapp ? Awesome iPad/i...   \n",
       "2  @swonderlin Can not wait for #iPad 2 also. The...   \n",
       "3  @sxsw I hope this year's festival isn't as cra...   \n",
       "4  @sxtxstate great stuff on Fri #SXSW: Marissa M...   \n",
       "\n",
       "  emotion_in_tweet_is_directed_at  \\\n",
       "0                          iPhone   \n",
       "1              iPad or iPhone App   \n",
       "2                            iPad   \n",
       "3              iPad or iPhone App   \n",
       "4                          Google   \n",
       "\n",
       "  is_there_an_emotion_directed_at_a_brand_or_product  \n",
       "0                                   Negative emotion  \n",
       "1                                   Positive emotion  \n",
       "2                                   Positive emotion  \n",
       "3                                   Negative emotion  \n",
       "4                                   Positive emotion  "
      ]
     },
     "execution_count": 2,
     "metadata": {},
     "output_type": "execute_result"
    }
   ],
   "source": [
    "#load the dataset, ensure the proper encoding is read\n",
    "df = pd.read_csv('data.csv', encoding='latin1')\n",
    "df.head()"
   ]
  },
  {
   "cell_type": "code",
   "execution_count": 3,
   "metadata": {},
   "outputs": [
    {
     "data": {
      "text/html": [
       "<div>\n",
       "<style scoped>\n",
       "    .dataframe tbody tr th:only-of-type {\n",
       "        vertical-align: middle;\n",
       "    }\n",
       "\n",
       "    .dataframe tbody tr th {\n",
       "        vertical-align: top;\n",
       "    }\n",
       "\n",
       "    .dataframe thead th {\n",
       "        text-align: right;\n",
       "    }\n",
       "</style>\n",
       "<table border=\"1\" class=\"dataframe\">\n",
       "  <thead>\n",
       "    <tr style=\"text-align: right;\">\n",
       "      <th></th>\n",
       "      <th>tweet</th>\n",
       "      <th>brand_or_product</th>\n",
       "      <th>sentiment</th>\n",
       "    </tr>\n",
       "  </thead>\n",
       "  <tbody>\n",
       "    <tr>\n",
       "      <th>0</th>\n",
       "      <td>.@wesley83 I have a 3G iPhone. After 3 hrs twe...</td>\n",
       "      <td>iPhone</td>\n",
       "      <td>Negative emotion</td>\n",
       "    </tr>\n",
       "    <tr>\n",
       "      <th>1</th>\n",
       "      <td>@jessedee Know about @fludapp ? Awesome iPad/i...</td>\n",
       "      <td>iPad or iPhone App</td>\n",
       "      <td>Positive emotion</td>\n",
       "    </tr>\n",
       "    <tr>\n",
       "      <th>2</th>\n",
       "      <td>@swonderlin Can not wait for #iPad 2 also. The...</td>\n",
       "      <td>iPad</td>\n",
       "      <td>Positive emotion</td>\n",
       "    </tr>\n",
       "    <tr>\n",
       "      <th>3</th>\n",
       "      <td>@sxsw I hope this year's festival isn't as cra...</td>\n",
       "      <td>iPad or iPhone App</td>\n",
       "      <td>Negative emotion</td>\n",
       "    </tr>\n",
       "    <tr>\n",
       "      <th>4</th>\n",
       "      <td>@sxtxstate great stuff on Fri #SXSW: Marissa M...</td>\n",
       "      <td>Google</td>\n",
       "      <td>Positive emotion</td>\n",
       "    </tr>\n",
       "  </tbody>\n",
       "</table>\n",
       "</div>"
      ],
      "text/plain": [
       "                                               tweet    brand_or_product  \\\n",
       "0  .@wesley83 I have a 3G iPhone. After 3 hrs twe...              iPhone   \n",
       "1  @jessedee Know about @fludapp ? Awesome iPad/i...  iPad or iPhone App   \n",
       "2  @swonderlin Can not wait for #iPad 2 also. The...                iPad   \n",
       "3  @sxsw I hope this year's festival isn't as cra...  iPad or iPhone App   \n",
       "4  @sxtxstate great stuff on Fri #SXSW: Marissa M...              Google   \n",
       "\n",
       "          sentiment  \n",
       "0  Negative emotion  \n",
       "1  Positive emotion  \n",
       "2  Positive emotion  \n",
       "3  Negative emotion  \n",
       "4  Positive emotion  "
      ]
     },
     "execution_count": 3,
     "metadata": {},
     "output_type": "execute_result"
    }
   ],
   "source": [
    "#change the name of the tweet, product, and sentiment columns\n",
    "df = df.rename(columns={'tweet_text': 'tweet', 'emotion_in_tweet_is_directed_at': 'brand_or_product', 'is_there_an_emotion_directed_at_a_brand_or_product': 'sentiment'})\n",
    "df.head()"
   ]
  },
  {
   "cell_type": "code",
   "execution_count": 4,
   "metadata": {},
   "outputs": [
    {
     "data": {
      "text/plain": [
       "No emotion toward brand or product    5389\n",
       "Positive emotion                      2978\n",
       "Negative emotion                       570\n",
       "I can't tell                           156\n",
       "Name: sentiment, dtype: int64"
      ]
     },
     "execution_count": 4,
     "metadata": {},
     "output_type": "execute_result"
    }
   ],
   "source": [
    "#look at the different values for sentiment column\n",
    "df['sentiment'].value_counts()"
   ]
  },
  {
   "cell_type": "code",
   "execution_count": 5,
   "metadata": {},
   "outputs": [
    {
     "data": {
      "text/html": [
       "<div>\n",
       "<style scoped>\n",
       "    .dataframe tbody tr th:only-of-type {\n",
       "        vertical-align: middle;\n",
       "    }\n",
       "\n",
       "    .dataframe tbody tr th {\n",
       "        vertical-align: top;\n",
       "    }\n",
       "\n",
       "    .dataframe thead th {\n",
       "        text-align: right;\n",
       "    }\n",
       "</style>\n",
       "<table border=\"1\" class=\"dataframe\">\n",
       "  <thead>\n",
       "    <tr style=\"text-align: right;\">\n",
       "      <th></th>\n",
       "      <th>tweet</th>\n",
       "      <th>brand_or_product</th>\n",
       "      <th>sentiment</th>\n",
       "    </tr>\n",
       "  </thead>\n",
       "  <tbody>\n",
       "    <tr>\n",
       "      <th>90</th>\n",
       "      <td>Thanks to @mention for publishing the news of ...</td>\n",
       "      <td>NaN</td>\n",
       "      <td>I can't tell</td>\n",
       "    </tr>\n",
       "    <tr>\n",
       "      <th>102</th>\n",
       "      <td>ÛÏ@mention &amp;quot;Apple has opened a pop-up st...</td>\n",
       "      <td>NaN</td>\n",
       "      <td>I can't tell</td>\n",
       "    </tr>\n",
       "    <tr>\n",
       "      <th>237</th>\n",
       "      <td>Just what America needs. RT @mention Google to...</td>\n",
       "      <td>NaN</td>\n",
       "      <td>I can't tell</td>\n",
       "    </tr>\n",
       "    <tr>\n",
       "      <th>341</th>\n",
       "      <td>The queue at the Apple Store in Austin is FOUR...</td>\n",
       "      <td>NaN</td>\n",
       "      <td>I can't tell</td>\n",
       "    </tr>\n",
       "    <tr>\n",
       "      <th>368</th>\n",
       "      <td>Hope it's better than wave RT @mention Buzz is...</td>\n",
       "      <td>NaN</td>\n",
       "      <td>I can't tell</td>\n",
       "    </tr>\n",
       "  </tbody>\n",
       "</table>\n",
       "</div>"
      ],
      "text/plain": [
       "                                                 tweet brand_or_product  \\\n",
       "90   Thanks to @mention for publishing the news of ...              NaN   \n",
       "102  ÛÏ@mention &quot;Apple has opened a pop-up st...              NaN   \n",
       "237  Just what America needs. RT @mention Google to...              NaN   \n",
       "341  The queue at the Apple Store in Austin is FOUR...              NaN   \n",
       "368  Hope it's better than wave RT @mention Buzz is...              NaN   \n",
       "\n",
       "        sentiment  \n",
       "90   I can't tell  \n",
       "102  I can't tell  \n",
       "237  I can't tell  \n",
       "341  I can't tell  \n",
       "368  I can't tell  "
      ]
     },
     "execution_count": 5,
     "metadata": {},
     "output_type": "execute_result"
    }
   ],
   "source": [
    "#look at the 'I can't tell' rows\n",
    "df.loc[df['sentiment'] == \"I can't tell\"].head()"
   ]
  },
  {
   "cell_type": "markdown",
   "metadata": {},
   "source": [
    "#### Drop the \"I can't tell\" rows \n",
    "\n",
    "We decided to drop the rows labeled \"I can't tell\", as they would only serve to confuse the dataset, and didn't make up a significant portion of the dataset anyway. "
   ]
  },
  {
   "cell_type": "code",
   "execution_count": 6,
   "metadata": {},
   "outputs": [
    {
     "name": "stdout",
     "output_type": "stream",
     "text": [
      "No emotion toward brand or product    5389\n",
      "Positive emotion                      2978\n",
      "Negative emotion                       570\n",
      "Name: sentiment, dtype: int64\n"
     ]
    }
   ],
   "source": [
    "#drop the I can't tell rows\n",
    "mask = df['sentiment'] == \"I can't tell\"\n",
    "df.drop(df[mask].index, inplace=True)\n",
    "print(df['sentiment'].value_counts())"
   ]
  },
  {
   "cell_type": "markdown",
   "metadata": {},
   "source": [
    "#### Change Sentiment Values\n",
    "\n",
    "We decided to combine 'I can't tell' and 'No emotion toward brand or product' into the value 'Neutral', and change\n",
    "'Positive emotion' and 'Negative emotion' to just 'Positive' and 'Negative'."
   ]
  },
  {
   "cell_type": "code",
   "execution_count": 7,
   "metadata": {},
   "outputs": [
    {
     "name": "stdout",
     "output_type": "stream",
     "text": [
      "Neutral     5389\n",
      "Positive    2978\n",
      "Negative     570\n",
      "Name: sentiment, dtype: int64\n"
     ]
    }
   ],
   "source": [
    "#change sentiment values\n",
    "df['sentiment'] = df['sentiment'].replace({'No emotion toward brand or product': 'Neutral',\n",
    "                                           'Positive emotion': 'Positive',\n",
    "                                           'Negative emotion': 'Negative'})\n",
    "print(df['sentiment'].value_counts())"
   ]
  },
  {
   "cell_type": "code",
   "execution_count": 8,
   "metadata": {},
   "outputs": [
    {
     "data": {
      "text/plain": [
       "iPad                               942\n",
       "Apple                              659\n",
       "iPad or iPhone App                 470\n",
       "Google                             429\n",
       "iPhone                             296\n",
       "Other Google product or service    292\n",
       "Android App                         81\n",
       "Android                             78\n",
       "Other Apple product or service      35\n",
       "Name: brand_or_product, dtype: int64"
      ]
     },
     "execution_count": 8,
     "metadata": {},
     "output_type": "execute_result"
    }
   ],
   "source": [
    "#look at the different values for brand_or_product column\n",
    "df['brand_or_product'].value_counts()"
   ]
  },
  {
   "cell_type": "code",
   "execution_count": 9,
   "metadata": {},
   "outputs": [
    {
     "name": "stdout",
     "output_type": "stream",
     "text": [
      "<class 'pandas.core.frame.DataFrame'>\n",
      "Int64Index: 8937 entries, 0 to 9092\n",
      "Data columns (total 3 columns):\n",
      " #   Column            Non-Null Count  Dtype \n",
      "---  ------            --------------  ----- \n",
      " 0   tweet             8936 non-null   object\n",
      " 1   brand_or_product  3282 non-null   object\n",
      " 2   sentiment         8937 non-null   object\n",
      "dtypes: object(3)\n",
      "memory usage: 279.3+ KB\n"
     ]
    }
   ],
   "source": [
    "#check information on each column\n",
    "df.info()"
   ]
  },
  {
   "cell_type": "markdown",
   "metadata": {},
   "source": [
    "### Duplicates\n",
    "\n",
    "We checked for and found duplicate records, then proceeded to drop them."
   ]
  },
  {
   "cell_type": "code",
   "execution_count": 10,
   "metadata": {},
   "outputs": [
    {
     "data": {
      "text/html": [
       "<div>\n",
       "<style scoped>\n",
       "    .dataframe tbody tr th:only-of-type {\n",
       "        vertical-align: middle;\n",
       "    }\n",
       "\n",
       "    .dataframe tbody tr th {\n",
       "        vertical-align: top;\n",
       "    }\n",
       "\n",
       "    .dataframe thead th {\n",
       "        text-align: right;\n",
       "    }\n",
       "</style>\n",
       "<table border=\"1\" class=\"dataframe\">\n",
       "  <thead>\n",
       "    <tr style=\"text-align: right;\">\n",
       "      <th></th>\n",
       "      <th>tweet</th>\n",
       "      <th>brand_or_product</th>\n",
       "      <th>sentiment</th>\n",
       "    </tr>\n",
       "  </thead>\n",
       "  <tbody>\n",
       "    <tr>\n",
       "      <th>468</th>\n",
       "      <td>Before It Even Begins, Apple Wins #SXSW {link}</td>\n",
       "      <td>Apple</td>\n",
       "      <td>Positive</td>\n",
       "    </tr>\n",
       "    <tr>\n",
       "      <th>776</th>\n",
       "      <td>Google to Launch Major New Social Network Call...</td>\n",
       "      <td>NaN</td>\n",
       "      <td>Neutral</td>\n",
       "    </tr>\n",
       "    <tr>\n",
       "      <th>2232</th>\n",
       "      <td>Marissa Mayer: Google Will Connect the Digital...</td>\n",
       "      <td>NaN</td>\n",
       "      <td>Neutral</td>\n",
       "    </tr>\n",
       "    <tr>\n",
       "      <th>2559</th>\n",
       "      <td>Counting down the days to #sxsw plus strong Ca...</td>\n",
       "      <td>Apple</td>\n",
       "      <td>Positive</td>\n",
       "    </tr>\n",
       "    <tr>\n",
       "      <th>3950</th>\n",
       "      <td>Really enjoying the changes in Gowalla 3.0 for...</td>\n",
       "      <td>Android App</td>\n",
       "      <td>Positive</td>\n",
       "    </tr>\n",
       "    <tr>\n",
       "      <th>3962</th>\n",
       "      <td>#SXSW is just starting, #CTIA is around the co...</td>\n",
       "      <td>Android</td>\n",
       "      <td>Positive</td>\n",
       "    </tr>\n",
       "    <tr>\n",
       "      <th>4897</th>\n",
       "      <td>Oh. My. God. The #SXSW app for iPad is pure, u...</td>\n",
       "      <td>iPad or iPhone App</td>\n",
       "      <td>Positive</td>\n",
       "    </tr>\n",
       "    <tr>\n",
       "      <th>5338</th>\n",
       "      <td>RT @mention ÷¼ GO BEYOND BORDERS! ÷_ {link} ...</td>\n",
       "      <td>NaN</td>\n",
       "      <td>Neutral</td>\n",
       "    </tr>\n",
       "    <tr>\n",
       "      <th>5341</th>\n",
       "      <td>RT @mention ÷¼ Happy Woman's Day! Make love, ...</td>\n",
       "      <td>NaN</td>\n",
       "      <td>Neutral</td>\n",
       "    </tr>\n",
       "    <tr>\n",
       "      <th>5881</th>\n",
       "      <td>RT @mention Google to Launch Major New Social ...</td>\n",
       "      <td>NaN</td>\n",
       "      <td>Neutral</td>\n",
       "    </tr>\n",
       "    <tr>\n",
       "      <th>5882</th>\n",
       "      <td>RT @mention Google to Launch Major New Social ...</td>\n",
       "      <td>NaN</td>\n",
       "      <td>Neutral</td>\n",
       "    </tr>\n",
       "    <tr>\n",
       "      <th>5883</th>\n",
       "      <td>RT @mention Google to Launch Major New Social ...</td>\n",
       "      <td>NaN</td>\n",
       "      <td>Neutral</td>\n",
       "    </tr>\n",
       "    <tr>\n",
       "      <th>5884</th>\n",
       "      <td>RT @mention Google to Launch Major New Social ...</td>\n",
       "      <td>NaN</td>\n",
       "      <td>Neutral</td>\n",
       "    </tr>\n",
       "    <tr>\n",
       "      <th>5885</th>\n",
       "      <td>RT @mention Google to Launch Major New Social ...</td>\n",
       "      <td>NaN</td>\n",
       "      <td>Neutral</td>\n",
       "    </tr>\n",
       "    <tr>\n",
       "      <th>6296</th>\n",
       "      <td>RT @mention Marissa Mayer: Google Will Connect...</td>\n",
       "      <td>Google</td>\n",
       "      <td>Positive</td>\n",
       "    </tr>\n",
       "    <tr>\n",
       "      <th>6297</th>\n",
       "      <td>RT @mention Marissa Mayer: Google Will Connect...</td>\n",
       "      <td>NaN</td>\n",
       "      <td>Neutral</td>\n",
       "    </tr>\n",
       "    <tr>\n",
       "      <th>6298</th>\n",
       "      <td>RT @mention Marissa Mayer: Google Will Connect...</td>\n",
       "      <td>Google</td>\n",
       "      <td>Positive</td>\n",
       "    </tr>\n",
       "    <tr>\n",
       "      <th>6299</th>\n",
       "      <td>RT @mention Marissa Mayer: Google Will Connect...</td>\n",
       "      <td>NaN</td>\n",
       "      <td>Neutral</td>\n",
       "    </tr>\n",
       "    <tr>\n",
       "      <th>6300</th>\n",
       "      <td>RT @mention Marissa Mayer: Google Will Connect...</td>\n",
       "      <td>NaN</td>\n",
       "      <td>Neutral</td>\n",
       "    </tr>\n",
       "    <tr>\n",
       "      <th>6546</th>\n",
       "      <td>RT @mention RT @mention Google to Launch Major...</td>\n",
       "      <td>NaN</td>\n",
       "      <td>Neutral</td>\n",
       "    </tr>\n",
       "    <tr>\n",
       "      <th>8483</th>\n",
       "      <td>I just noticed DST is coming this weekend. How...</td>\n",
       "      <td>iPhone</td>\n",
       "      <td>Negative</td>\n",
       "    </tr>\n",
       "    <tr>\n",
       "      <th>8747</th>\n",
       "      <td>Need to buy an iPad2 while I'm in Austin at #s...</td>\n",
       "      <td>iPad</td>\n",
       "      <td>Positive</td>\n",
       "    </tr>\n",
       "  </tbody>\n",
       "</table>\n",
       "</div>"
      ],
      "text/plain": [
       "                                                  tweet    brand_or_product  \\\n",
       "468      Before It Even Begins, Apple Wins #SXSW {link}               Apple   \n",
       "776   Google to Launch Major New Social Network Call...                 NaN   \n",
       "2232  Marissa Mayer: Google Will Connect the Digital...                 NaN   \n",
       "2559  Counting down the days to #sxsw plus strong Ca...               Apple   \n",
       "3950  Really enjoying the changes in Gowalla 3.0 for...         Android App   \n",
       "3962  #SXSW is just starting, #CTIA is around the co...             Android   \n",
       "4897  Oh. My. God. The #SXSW app for iPad is pure, u...  iPad or iPhone App   \n",
       "5338  RT @mention ÷¼ GO BEYOND BORDERS! ÷_ {link} ...                 NaN   \n",
       "5341  RT @mention ÷¼ Happy Woman's Day! Make love, ...                 NaN   \n",
       "5881  RT @mention Google to Launch Major New Social ...                 NaN   \n",
       "5882  RT @mention Google to Launch Major New Social ...                 NaN   \n",
       "5883  RT @mention Google to Launch Major New Social ...                 NaN   \n",
       "5884  RT @mention Google to Launch Major New Social ...                 NaN   \n",
       "5885  RT @mention Google to Launch Major New Social ...                 NaN   \n",
       "6296  RT @mention Marissa Mayer: Google Will Connect...              Google   \n",
       "6297  RT @mention Marissa Mayer: Google Will Connect...                 NaN   \n",
       "6298  RT @mention Marissa Mayer: Google Will Connect...              Google   \n",
       "6299  RT @mention Marissa Mayer: Google Will Connect...                 NaN   \n",
       "6300  RT @mention Marissa Mayer: Google Will Connect...                 NaN   \n",
       "6546  RT @mention RT @mention Google to Launch Major...                 NaN   \n",
       "8483  I just noticed DST is coming this weekend. How...              iPhone   \n",
       "8747  Need to buy an iPad2 while I'm in Austin at #s...                iPad   \n",
       "\n",
       "     sentiment  \n",
       "468   Positive  \n",
       "776    Neutral  \n",
       "2232   Neutral  \n",
       "2559  Positive  \n",
       "3950  Positive  \n",
       "3962  Positive  \n",
       "4897  Positive  \n",
       "5338   Neutral  \n",
       "5341   Neutral  \n",
       "5881   Neutral  \n",
       "5882   Neutral  \n",
       "5883   Neutral  \n",
       "5884   Neutral  \n",
       "5885   Neutral  \n",
       "6296  Positive  \n",
       "6297   Neutral  \n",
       "6298  Positive  \n",
       "6299   Neutral  \n",
       "6300   Neutral  \n",
       "6546   Neutral  \n",
       "8483  Negative  \n",
       "8747  Positive  "
      ]
     },
     "execution_count": 10,
     "metadata": {},
     "output_type": "execute_result"
    }
   ],
   "source": [
    "#check for duplicates\n",
    "df[df.duplicated()]"
   ]
  },
  {
   "cell_type": "code",
   "execution_count": 11,
   "metadata": {},
   "outputs": [
    {
     "name": "stdout",
     "output_type": "stream",
     "text": [
      "22\n"
     ]
    }
   ],
   "source": [
    "#check the number of duplicates\n",
    "print(len(df[df.duplicated()]))"
   ]
  },
  {
   "cell_type": "code",
   "execution_count": 12,
   "metadata": {},
   "outputs": [
    {
     "data": {
      "text/html": [
       "<div>\n",
       "<style scoped>\n",
       "    .dataframe tbody tr th:only-of-type {\n",
       "        vertical-align: middle;\n",
       "    }\n",
       "\n",
       "    .dataframe tbody tr th {\n",
       "        vertical-align: top;\n",
       "    }\n",
       "\n",
       "    .dataframe thead th {\n",
       "        text-align: right;\n",
       "    }\n",
       "</style>\n",
       "<table border=\"1\" class=\"dataframe\">\n",
       "  <thead>\n",
       "    <tr style=\"text-align: right;\">\n",
       "      <th></th>\n",
       "      <th>tweet</th>\n",
       "      <th>brand_or_product</th>\n",
       "      <th>sentiment</th>\n",
       "    </tr>\n",
       "  </thead>\n",
       "  <tbody>\n",
       "  </tbody>\n",
       "</table>\n",
       "</div>"
      ],
      "text/plain": [
       "Empty DataFrame\n",
       "Columns: [tweet, brand_or_product, sentiment]\n",
       "Index: []"
      ]
     },
     "execution_count": 12,
     "metadata": {},
     "output_type": "execute_result"
    }
   ],
   "source": [
    "#drop duplicates\n",
    "df.drop_duplicates(inplace=True)\n",
    "df[df.duplicated()]"
   ]
  },
  {
   "cell_type": "markdown",
   "metadata": {},
   "source": [
    "### Missing Values\n",
    "\n",
    "We checked for missing values and were missing 1 value for the tweet column and almost 6,000 values for the brand_or_product column. "
   ]
  },
  {
   "cell_type": "code",
   "execution_count": 13,
   "metadata": {},
   "outputs": [
    {
     "data": {
      "text/html": [
       "<div>\n",
       "<style scoped>\n",
       "    .dataframe tbody tr th:only-of-type {\n",
       "        vertical-align: middle;\n",
       "    }\n",
       "\n",
       "    .dataframe tbody tr th {\n",
       "        vertical-align: top;\n",
       "    }\n",
       "\n",
       "    .dataframe thead th {\n",
       "        text-align: right;\n",
       "    }\n",
       "</style>\n",
       "<table border=\"1\" class=\"dataframe\">\n",
       "  <thead>\n",
       "    <tr style=\"text-align: right;\">\n",
       "      <th></th>\n",
       "      <th>tweet</th>\n",
       "      <th>brand_or_product</th>\n",
       "      <th>sentiment</th>\n",
       "    </tr>\n",
       "  </thead>\n",
       "  <tbody>\n",
       "    <tr>\n",
       "      <th>6</th>\n",
       "      <td>NaN</td>\n",
       "      <td>NaN</td>\n",
       "      <td>Neutral</td>\n",
       "    </tr>\n",
       "  </tbody>\n",
       "</table>\n",
       "</div>"
      ],
      "text/plain": [
       "  tweet brand_or_product sentiment\n",
       "6   NaN              NaN   Neutral"
      ]
     },
     "execution_count": 13,
     "metadata": {},
     "output_type": "execute_result"
    }
   ],
   "source": [
    "#look at the row with the missing value for the 'tweet' column\n",
    "df.loc[df['tweet'].isnull()]"
   ]
  },
  {
   "cell_type": "markdown",
   "metadata": {},
   "source": [
    "#### Drop Missing Tweet \n",
    "\n",
    "Since there is nothing useful provided in the entire row that's the sole missing tweet, we just dropped the row."
   ]
  },
  {
   "cell_type": "code",
   "execution_count": 14,
   "metadata": {},
   "outputs": [
    {
     "name": "stdout",
     "output_type": "stream",
     "text": [
      "<class 'pandas.core.frame.DataFrame'>\n",
      "Int64Index: 8914 entries, 0 to 9092\n",
      "Data columns (total 3 columns):\n",
      " #   Column            Non-Null Count  Dtype \n",
      "---  ------            --------------  ----- \n",
      " 0   tweet             8914 non-null   object\n",
      " 1   brand_or_product  3273 non-null   object\n",
      " 2   sentiment         8914 non-null   object\n",
      "dtypes: object(3)\n",
      "memory usage: 278.6+ KB\n"
     ]
    }
   ],
   "source": [
    "#drop missing tweet row\n",
    "df.dropna(subset=['tweet'], inplace=True)\n",
    "df.info()"
   ]
  },
  {
   "cell_type": "markdown",
   "metadata": {},
   "source": [
    "Now we took a look at the missing brand/product rows."
   ]
  },
  {
   "cell_type": "code",
   "execution_count": 15,
   "metadata": {},
   "outputs": [
    {
     "data": {
      "text/html": [
       "<div>\n",
       "<style scoped>\n",
       "    .dataframe tbody tr th:only-of-type {\n",
       "        vertical-align: middle;\n",
       "    }\n",
       "\n",
       "    .dataframe tbody tr th {\n",
       "        vertical-align: top;\n",
       "    }\n",
       "\n",
       "    .dataframe thead th {\n",
       "        text-align: right;\n",
       "    }\n",
       "</style>\n",
       "<table border=\"1\" class=\"dataframe\">\n",
       "  <thead>\n",
       "    <tr style=\"text-align: right;\">\n",
       "      <th></th>\n",
       "      <th>tweet</th>\n",
       "      <th>brand_or_product</th>\n",
       "      <th>sentiment</th>\n",
       "    </tr>\n",
       "  </thead>\n",
       "  <tbody>\n",
       "    <tr>\n",
       "      <th>5</th>\n",
       "      <td>@teachntech00 New iPad Apps For #SpeechTherapy...</td>\n",
       "      <td>NaN</td>\n",
       "      <td>Neutral</td>\n",
       "    </tr>\n",
       "    <tr>\n",
       "      <th>16</th>\n",
       "      <td>Holler Gram for iPad on the iTunes App Store -...</td>\n",
       "      <td>NaN</td>\n",
       "      <td>Neutral</td>\n",
       "    </tr>\n",
       "    <tr>\n",
       "      <th>32</th>\n",
       "      <td>Attn: All  #SXSW frineds, @mention Register fo...</td>\n",
       "      <td>NaN</td>\n",
       "      <td>Neutral</td>\n",
       "    </tr>\n",
       "    <tr>\n",
       "      <th>33</th>\n",
       "      <td>Anyone at  #sxsw want to sell their old iPad?</td>\n",
       "      <td>NaN</td>\n",
       "      <td>Neutral</td>\n",
       "    </tr>\n",
       "    <tr>\n",
       "      <th>34</th>\n",
       "      <td>Anyone at  #SXSW who bought the new iPad want ...</td>\n",
       "      <td>NaN</td>\n",
       "      <td>Neutral</td>\n",
       "    </tr>\n",
       "    <tr>\n",
       "      <th>35</th>\n",
       "      <td>At #sxsw.  Oooh. RT @mention Google to Launch ...</td>\n",
       "      <td>NaN</td>\n",
       "      <td>Neutral</td>\n",
       "    </tr>\n",
       "    <tr>\n",
       "      <th>37</th>\n",
       "      <td>SPIN Play - a new concept in music discovery f...</td>\n",
       "      <td>NaN</td>\n",
       "      <td>Neutral</td>\n",
       "    </tr>\n",
       "    <tr>\n",
       "      <th>39</th>\n",
       "      <td>VatorNews - Google And Apple Force Print Media...</td>\n",
       "      <td>NaN</td>\n",
       "      <td>Neutral</td>\n",
       "    </tr>\n",
       "    <tr>\n",
       "      <th>41</th>\n",
       "      <td>HootSuite - HootSuite Mobile for #SXSW ~ Updat...</td>\n",
       "      <td>NaN</td>\n",
       "      <td>Neutral</td>\n",
       "    </tr>\n",
       "    <tr>\n",
       "      <th>42</th>\n",
       "      <td>Hey #SXSW - How long do you think it takes us ...</td>\n",
       "      <td>NaN</td>\n",
       "      <td>Neutral</td>\n",
       "    </tr>\n",
       "    <tr>\n",
       "      <th>43</th>\n",
       "      <td>Mashable! - The iPad 2 Takes Over SXSW [VIDEO]...</td>\n",
       "      <td>NaN</td>\n",
       "      <td>Neutral</td>\n",
       "    </tr>\n",
       "    <tr>\n",
       "      <th>44</th>\n",
       "      <td>For I-Pad ?RT @mention New #UberSocial for #iP...</td>\n",
       "      <td>NaN</td>\n",
       "      <td>Neutral</td>\n",
       "    </tr>\n",
       "    <tr>\n",
       "      <th>46</th>\n",
       "      <td>Hand-Held Û÷HoboÛª: Drafthouse launches Û÷H...</td>\n",
       "      <td>NaN</td>\n",
       "      <td>Positive</td>\n",
       "    </tr>\n",
       "    <tr>\n",
       "      <th>48</th>\n",
       "      <td>Orly....? ÛÏ@mention Google set to launch new...</td>\n",
       "      <td>NaN</td>\n",
       "      <td>Neutral</td>\n",
       "    </tr>\n",
       "    <tr>\n",
       "      <th>50</th>\n",
       "      <td>Khoi Vinh (@mention says Conde Nast's headlong...</td>\n",
       "      <td>NaN</td>\n",
       "      <td>Neutral</td>\n",
       "    </tr>\n",
       "    <tr>\n",
       "      <th>51</th>\n",
       "      <td>ÛÏ@mention {link} &amp;lt;-- HELP ME FORWARD THIS...</td>\n",
       "      <td>NaN</td>\n",
       "      <td>Neutral</td>\n",
       "    </tr>\n",
       "    <tr>\n",
       "      <th>52</th>\n",
       "      <td>÷¼ WHAT? ÷_ {link} ã_ #edchat #musedchat #s...</td>\n",
       "      <td>NaN</td>\n",
       "      <td>Neutral</td>\n",
       "    </tr>\n",
       "    <tr>\n",
       "      <th>53</th>\n",
       "      <td>.@mention @mention on the location-based 'fast...</td>\n",
       "      <td>NaN</td>\n",
       "      <td>Neutral</td>\n",
       "    </tr>\n",
       "    <tr>\n",
       "      <th>54</th>\n",
       "      <td>ÛÏ@mention @mention #Google Will Connect the ...</td>\n",
       "      <td>NaN</td>\n",
       "      <td>Neutral</td>\n",
       "    </tr>\n",
       "    <tr>\n",
       "      <th>56</th>\n",
       "      <td>{link} RT @mention &amp;quot;Google before you twe...</td>\n",
       "      <td>NaN</td>\n",
       "      <td>Neutral</td>\n",
       "    </tr>\n",
       "  </tbody>\n",
       "</table>\n",
       "</div>"
      ],
      "text/plain": [
       "                                                tweet brand_or_product  \\\n",
       "5   @teachntech00 New iPad Apps For #SpeechTherapy...              NaN   \n",
       "16  Holler Gram for iPad on the iTunes App Store -...              NaN   \n",
       "32  Attn: All  #SXSW frineds, @mention Register fo...              NaN   \n",
       "33      Anyone at  #sxsw want to sell their old iPad?              NaN   \n",
       "34  Anyone at  #SXSW who bought the new iPad want ...              NaN   \n",
       "35  At #sxsw.  Oooh. RT @mention Google to Launch ...              NaN   \n",
       "37  SPIN Play - a new concept in music discovery f...              NaN   \n",
       "39  VatorNews - Google And Apple Force Print Media...              NaN   \n",
       "41  HootSuite - HootSuite Mobile for #SXSW ~ Updat...              NaN   \n",
       "42  Hey #SXSW - How long do you think it takes us ...              NaN   \n",
       "43  Mashable! - The iPad 2 Takes Over SXSW [VIDEO]...              NaN   \n",
       "44  For I-Pad ?RT @mention New #UberSocial for #iP...              NaN   \n",
       "46  Hand-Held Û÷HoboÛª: Drafthouse launches Û÷H...              NaN   \n",
       "48  Orly....? ÛÏ@mention Google set to launch new...              NaN   \n",
       "50  Khoi Vinh (@mention says Conde Nast's headlong...              NaN   \n",
       "51  ÛÏ@mention {link} &lt;-- HELP ME FORWARD THIS...              NaN   \n",
       "52  ÷¼ WHAT? ÷_ {link} ã_ #edchat #musedchat #s...              NaN   \n",
       "53  .@mention @mention on the location-based 'fast...              NaN   \n",
       "54  ÛÏ@mention @mention #Google Will Connect the ...              NaN   \n",
       "56  {link} RT @mention &quot;Google before you twe...              NaN   \n",
       "\n",
       "   sentiment  \n",
       "5    Neutral  \n",
       "16   Neutral  \n",
       "32   Neutral  \n",
       "33   Neutral  \n",
       "34   Neutral  \n",
       "35   Neutral  \n",
       "37   Neutral  \n",
       "39   Neutral  \n",
       "41   Neutral  \n",
       "42   Neutral  \n",
       "43   Neutral  \n",
       "44   Neutral  \n",
       "46  Positive  \n",
       "48   Neutral  \n",
       "50   Neutral  \n",
       "51   Neutral  \n",
       "52   Neutral  \n",
       "53   Neutral  \n",
       "54   Neutral  \n",
       "56   Neutral  "
      ]
     },
     "execution_count": 15,
     "metadata": {},
     "output_type": "execute_result"
    }
   ],
   "source": [
    "#look at 20 rows of missing brand/product values\n",
    "df.loc[df['brand_or_product'].isnull()].head(20)"
   ]
  },
  {
   "cell_type": "markdown",
   "metadata": {},
   "source": [
    "We looked for any correlation or pattern between missing brands and the sentiment. "
   ]
  },
  {
   "cell_type": "code",
   "execution_count": 16,
   "metadata": {},
   "outputs": [
    {
     "data": {
      "text/html": [
       "<div>\n",
       "<style scoped>\n",
       "    .dataframe tbody tr th:only-of-type {\n",
       "        vertical-align: middle;\n",
       "    }\n",
       "\n",
       "    .dataframe tbody tr th {\n",
       "        vertical-align: top;\n",
       "    }\n",
       "\n",
       "    .dataframe thead th {\n",
       "        text-align: right;\n",
       "    }\n",
       "</style>\n",
       "<table border=\"1\" class=\"dataframe\">\n",
       "  <thead>\n",
       "    <tr style=\"text-align: right;\">\n",
       "      <th></th>\n",
       "      <th>tweet</th>\n",
       "      <th>brand_or_product</th>\n",
       "      <th>sentiment</th>\n",
       "    </tr>\n",
       "  </thead>\n",
       "  <tbody>\n",
       "    <tr>\n",
       "      <th>46</th>\n",
       "      <td>Hand-Held Û÷HoboÛª: Drafthouse launches Û÷H...</td>\n",
       "      <td>NaN</td>\n",
       "      <td>Positive</td>\n",
       "    </tr>\n",
       "    <tr>\n",
       "      <th>64</th>\n",
       "      <td>Again? RT @mention Line at the Apple store is ...</td>\n",
       "      <td>NaN</td>\n",
       "      <td>Negative</td>\n",
       "    </tr>\n",
       "    <tr>\n",
       "      <th>68</th>\n",
       "      <td>Boooo! RT @mention Flipboard is developing an ...</td>\n",
       "      <td>NaN</td>\n",
       "      <td>Negative</td>\n",
       "    </tr>\n",
       "    <tr>\n",
       "      <th>103</th>\n",
       "      <td>Know that &amp;quot;dataviz&amp;quot; translates to &amp;q...</td>\n",
       "      <td>NaN</td>\n",
       "      <td>Negative</td>\n",
       "    </tr>\n",
       "    <tr>\n",
       "      <th>112</th>\n",
       "      <td>Spark for #android is up for a #teamandroid aw...</td>\n",
       "      <td>NaN</td>\n",
       "      <td>Positive</td>\n",
       "    </tr>\n",
       "    <tr>\n",
       "      <th>...</th>\n",
       "      <td>...</td>\n",
       "      <td>...</td>\n",
       "      <td>...</td>\n",
       "    </tr>\n",
       "    <tr>\n",
       "      <th>9011</th>\n",
       "      <td>apparently the line to get an iPad at the #sxs...</td>\n",
       "      <td>NaN</td>\n",
       "      <td>Positive</td>\n",
       "    </tr>\n",
       "    <tr>\n",
       "      <th>9043</th>\n",
       "      <td>Hey is anyone doing #sxsw signing up for the g...</td>\n",
       "      <td>NaN</td>\n",
       "      <td>Negative</td>\n",
       "    </tr>\n",
       "    <tr>\n",
       "      <th>9049</th>\n",
       "      <td>@mention you can buy my used iPad and I'll pic...</td>\n",
       "      <td>NaN</td>\n",
       "      <td>Positive</td>\n",
       "    </tr>\n",
       "    <tr>\n",
       "      <th>9052</th>\n",
       "      <td>@mention You could buy a new iPad 2 tmrw at th...</td>\n",
       "      <td>NaN</td>\n",
       "      <td>Positive</td>\n",
       "    </tr>\n",
       "    <tr>\n",
       "      <th>9054</th>\n",
       "      <td>Guys, if you ever plan on attending #SXSW, you...</td>\n",
       "      <td>NaN</td>\n",
       "      <td>Positive</td>\n",
       "    </tr>\n",
       "  </tbody>\n",
       "</table>\n",
       "<p>357 rows × 3 columns</p>\n",
       "</div>"
      ],
      "text/plain": [
       "                                                  tweet brand_or_product  \\\n",
       "46    Hand-Held Û÷HoboÛª: Drafthouse launches Û÷H...              NaN   \n",
       "64    Again? RT @mention Line at the Apple store is ...              NaN   \n",
       "68    Boooo! RT @mention Flipboard is developing an ...              NaN   \n",
       "103   Know that &quot;dataviz&quot; translates to &q...              NaN   \n",
       "112   Spark for #android is up for a #teamandroid aw...              NaN   \n",
       "...                                                 ...              ...   \n",
       "9011  apparently the line to get an iPad at the #sxs...              NaN   \n",
       "9043  Hey is anyone doing #sxsw signing up for the g...              NaN   \n",
       "9049  @mention you can buy my used iPad and I'll pic...              NaN   \n",
       "9052  @mention You could buy a new iPad 2 tmrw at th...              NaN   \n",
       "9054  Guys, if you ever plan on attending #SXSW, you...              NaN   \n",
       "\n",
       "     sentiment  \n",
       "46    Positive  \n",
       "64    Negative  \n",
       "68    Negative  \n",
       "103   Negative  \n",
       "112   Positive  \n",
       "...        ...  \n",
       "9011  Positive  \n",
       "9043  Negative  \n",
       "9049  Positive  \n",
       "9052  Positive  \n",
       "9054  Positive  \n",
       "\n",
       "[357 rows x 3 columns]"
      ]
     },
     "execution_count": 16,
     "metadata": {},
     "output_type": "execute_result"
    }
   ],
   "source": [
    "#check missing brand/product rows that have a sentiment other than Neutral\n",
    "df.loc[(df['brand_or_product'].isnull()) & (df['sentiment'] != 'Neutral')]"
   ]
  },
  {
   "cell_type": "code",
   "execution_count": 17,
   "metadata": {},
   "outputs": [
    {
     "name": "stdout",
     "output_type": "stream",
     "text": [
      "Number of rows with a sentiment other than Neutral:  357\n",
      "Number of rows with Neutral as the sentiment:  5284\n"
     ]
    }
   ],
   "source": [
    "#print the number of missing brand/product rows that have a sentiment other than Neutral, and the number that have Neutral as the sentiment\n",
    "print(\"Number of rows with a sentiment other than Neutral: \", len(df.loc[(df['brand_or_product'].isnull()) & (df['sentiment'] != 'Neutral')]))\n",
    "print(\"Number of rows with Neutral as the sentiment: \", len(df.loc[(df['brand_or_product'].isnull()) & (df['sentiment'] == 'Neutral')]))"
   ]
  },
  {
   "cell_type": "markdown",
   "metadata": {},
   "source": [
    "#### Modify Null Brand/Product Rows\n",
    "\n",
    "With so many entries missing a value for the brand/product, and having a non-neutral sentiment, we proceed to write a function to fill in the brand/product if it contained one of our brand/product values in the tweet, then applied this function to the dataset. "
   ]
  },
  {
   "cell_type": "code",
   "execution_count": 18,
   "metadata": {},
   "outputs": [],
   "source": [
    "#function to change the brand/product column based on inclusion of one of the values in the tweet\n",
    "def get_brand_or_product(tweet):\n",
    "    tweet = tweet.lower()\n",
    "    keywords = ['apple', 'google', 'iphone', 'ipad', 'android']\n",
    "    count = 0\n",
    "    brand_product = None\n",
    "\n",
    "    for keyword in keywords:\n",
    "        if keyword in tweet:\n",
    "            count += 1\n",
    "            brand_product = keyword\n",
    "    #leave the column blank if more than one of the brand/product values is in the tweet\n",
    "    if count > 1:\n",
    "        brand_product = None\n",
    "\n",
    "    return brand_product"
   ]
  },
  {
   "cell_type": "code",
   "execution_count": 19,
   "metadata": {},
   "outputs": [
    {
     "name": "stdout",
     "output_type": "stream",
     "text": [
      "1492\n"
     ]
    }
   ],
   "source": [
    "#apply the function to the null rows in the dataset\n",
    "mask = df['brand_or_product'].isnull()\n",
    "df.loc[mask, 'brand_or_product'] = df.loc[mask, 'tweet'].apply(get_brand_or_product)\n",
    "print(len(df.loc[df['brand_or_product'].isnull()]))"
   ]
  },
  {
   "cell_type": "code",
   "execution_count": 20,
   "metadata": {},
   "outputs": [
    {
     "name": "stdout",
     "output_type": "stream",
     "text": [
      "<class 'pandas.core.frame.DataFrame'>\n",
      "Int64Index: 8914 entries, 0 to 9092\n",
      "Data columns (total 3 columns):\n",
      " #   Column            Non-Null Count  Dtype \n",
      "---  ------            --------------  ----- \n",
      " 0   tweet             8914 non-null   object\n",
      " 1   brand_or_product  7422 non-null   object\n",
      " 2   sentiment         8914 non-null   object\n",
      "dtypes: object(3)\n",
      "memory usage: 278.6+ KB\n"
     ]
    }
   ],
   "source": [
    "#check the info on each column again\n",
    "df.info()"
   ]
  },
  {
   "cell_type": "code",
   "execution_count": 21,
   "metadata": {},
   "outputs": [
    {
     "data": {
      "text/html": [
       "<div>\n",
       "<style scoped>\n",
       "    .dataframe tbody tr th:only-of-type {\n",
       "        vertical-align: middle;\n",
       "    }\n",
       "\n",
       "    .dataframe tbody tr th {\n",
       "        vertical-align: top;\n",
       "    }\n",
       "\n",
       "    .dataframe thead th {\n",
       "        text-align: right;\n",
       "    }\n",
       "</style>\n",
       "<table border=\"1\" class=\"dataframe\">\n",
       "  <thead>\n",
       "    <tr style=\"text-align: right;\">\n",
       "      <th></th>\n",
       "      <th>tweet</th>\n",
       "      <th>brand_or_product</th>\n",
       "      <th>sentiment</th>\n",
       "    </tr>\n",
       "  </thead>\n",
       "  <tbody>\n",
       "    <tr>\n",
       "      <th>39</th>\n",
       "      <td>VatorNews - Google And Apple Force Print Media...</td>\n",
       "      <td>None</td>\n",
       "      <td>Neutral</td>\n",
       "    </tr>\n",
       "    <tr>\n",
       "      <th>41</th>\n",
       "      <td>HootSuite - HootSuite Mobile for #SXSW ~ Updat...</td>\n",
       "      <td>None</td>\n",
       "      <td>Neutral</td>\n",
       "    </tr>\n",
       "    <tr>\n",
       "      <th>51</th>\n",
       "      <td>ÛÏ@mention {link} &amp;lt;-- HELP ME FORWARD THIS...</td>\n",
       "      <td>None</td>\n",
       "      <td>Neutral</td>\n",
       "    </tr>\n",
       "    <tr>\n",
       "      <th>52</th>\n",
       "      <td>÷¼ WHAT? ÷_ {link} ã_ #edchat #musedchat #s...</td>\n",
       "      <td>None</td>\n",
       "      <td>Neutral</td>\n",
       "    </tr>\n",
       "    <tr>\n",
       "      <th>53</th>\n",
       "      <td>.@mention @mention on the location-based 'fast...</td>\n",
       "      <td>None</td>\n",
       "      <td>Neutral</td>\n",
       "    </tr>\n",
       "    <tr>\n",
       "      <th>66</th>\n",
       "      <td>At #sxsw? @mention / @mention wanna buy you a ...</td>\n",
       "      <td>None</td>\n",
       "      <td>Neutral</td>\n",
       "    </tr>\n",
       "    <tr>\n",
       "      <th>68</th>\n",
       "      <td>Boooo! RT @mention Flipboard is developing an ...</td>\n",
       "      <td>None</td>\n",
       "      <td>Negative</td>\n",
       "    </tr>\n",
       "    <tr>\n",
       "      <th>71</th>\n",
       "      <td>Chilcott: @mention #SXSW stand talking with Bl...</td>\n",
       "      <td>None</td>\n",
       "      <td>Neutral</td>\n",
       "    </tr>\n",
       "    <tr>\n",
       "      <th>73</th>\n",
       "      <td>Gowalla's @mention promises to launch Foursqua...</td>\n",
       "      <td>None</td>\n",
       "      <td>Neutral</td>\n",
       "    </tr>\n",
       "    <tr>\n",
       "      <th>77</th>\n",
       "      <td>I worship @mention {link} #SXSW</td>\n",
       "      <td>None</td>\n",
       "      <td>Neutral</td>\n",
       "    </tr>\n",
       "    <tr>\n",
       "      <th>79</th>\n",
       "      <td>Launching @mention #SxSW? RT @mention @mention...</td>\n",
       "      <td>None</td>\n",
       "      <td>Neutral</td>\n",
       "    </tr>\n",
       "    <tr>\n",
       "      <th>82</th>\n",
       "      <td>Nice!  RT @mention Apple opening popup store f...</td>\n",
       "      <td>None</td>\n",
       "      <td>Neutral</td>\n",
       "    </tr>\n",
       "    <tr>\n",
       "      <th>85</th>\n",
       "      <td>Stay tune @mention showcase #H4ckers {link} #SXSW</td>\n",
       "      <td>None</td>\n",
       "      <td>Neutral</td>\n",
       "    </tr>\n",
       "    <tr>\n",
       "      <th>86</th>\n",
       "      <td>Thank you @mention @mention for the #touchings...</td>\n",
       "      <td>None</td>\n",
       "      <td>Neutral</td>\n",
       "    </tr>\n",
       "    <tr>\n",
       "      <th>87</th>\n",
       "      <td>Thank you @mention for an awesome #sxsw party!...</td>\n",
       "      <td>None</td>\n",
       "      <td>Neutral</td>\n",
       "    </tr>\n",
       "    <tr>\n",
       "      <th>88</th>\n",
       "      <td>Thanks RT @mention If you're trying to contact...</td>\n",
       "      <td>None</td>\n",
       "      <td>Neutral</td>\n",
       "    </tr>\n",
       "    <tr>\n",
       "      <th>91</th>\n",
       "      <td>Thanks to @mention for publishing the news of ...</td>\n",
       "      <td>None</td>\n",
       "      <td>Neutral</td>\n",
       "    </tr>\n",
       "    <tr>\n",
       "      <th>93</th>\n",
       "      <td>Wonder if @mention &amp;amp; @mention will be in t...</td>\n",
       "      <td>None</td>\n",
       "      <td>Neutral</td>\n",
       "    </tr>\n",
       "    <tr>\n",
       "      <th>94</th>\n",
       "      <td>Wonder if @mention is putting tips from the @m...</td>\n",
       "      <td>None</td>\n",
       "      <td>Neutral</td>\n",
       "    </tr>\n",
       "    <tr>\n",
       "      <th>97</th>\n",
       "      <td>Yes!!! RT @mention hey @mention , i've got ano...</td>\n",
       "      <td>None</td>\n",
       "      <td>Neutral</td>\n",
       "    </tr>\n",
       "  </tbody>\n",
       "</table>\n",
       "</div>"
      ],
      "text/plain": [
       "                                                tweet brand_or_product  \\\n",
       "39  VatorNews - Google And Apple Force Print Media...             None   \n",
       "41  HootSuite - HootSuite Mobile for #SXSW ~ Updat...             None   \n",
       "51  ÛÏ@mention {link} &lt;-- HELP ME FORWARD THIS...             None   \n",
       "52  ÷¼ WHAT? ÷_ {link} ã_ #edchat #musedchat #s...             None   \n",
       "53  .@mention @mention on the location-based 'fast...             None   \n",
       "66  At #sxsw? @mention / @mention wanna buy you a ...             None   \n",
       "68  Boooo! RT @mention Flipboard is developing an ...             None   \n",
       "71  Chilcott: @mention #SXSW stand talking with Bl...             None   \n",
       "73  Gowalla's @mention promises to launch Foursqua...             None   \n",
       "77                    I worship @mention {link} #SXSW             None   \n",
       "79  Launching @mention #SxSW? RT @mention @mention...             None   \n",
       "82  Nice!  RT @mention Apple opening popup store f...             None   \n",
       "85  Stay tune @mention showcase #H4ckers {link} #SXSW             None   \n",
       "86  Thank you @mention @mention for the #touchings...             None   \n",
       "87  Thank you @mention for an awesome #sxsw party!...             None   \n",
       "88  Thanks RT @mention If you're trying to contact...             None   \n",
       "91  Thanks to @mention for publishing the news of ...             None   \n",
       "93  Wonder if @mention &amp; @mention will be in t...             None   \n",
       "94  Wonder if @mention is putting tips from the @m...             None   \n",
       "97  Yes!!! RT @mention hey @mention , i've got ano...             None   \n",
       "\n",
       "   sentiment  \n",
       "39   Neutral  \n",
       "41   Neutral  \n",
       "51   Neutral  \n",
       "52   Neutral  \n",
       "53   Neutral  \n",
       "66   Neutral  \n",
       "68  Negative  \n",
       "71   Neutral  \n",
       "73   Neutral  \n",
       "77   Neutral  \n",
       "79   Neutral  \n",
       "82   Neutral  \n",
       "85   Neutral  \n",
       "86   Neutral  \n",
       "87   Neutral  \n",
       "88   Neutral  \n",
       "91   Neutral  \n",
       "93   Neutral  \n",
       "94   Neutral  \n",
       "97   Neutral  "
      ]
     },
     "execution_count": 21,
     "metadata": {},
     "output_type": "execute_result"
    }
   ],
   "source": [
    "#look at 20 null rows again\n",
    "df.loc[df['brand_or_product'].isnull()].head(20)"
   ]
  },
  {
   "cell_type": "markdown",
   "metadata": {},
   "source": [
    "#### Placeholder \n",
    "\n",
    "We decided to put a placeholder of 'Unknown' for the rest of the null rows. "
   ]
  },
  {
   "cell_type": "code",
   "execution_count": 22,
   "metadata": {},
   "outputs": [
    {
     "name": "stdout",
     "output_type": "stream",
     "text": [
      "<class 'pandas.core.frame.DataFrame'>\n",
      "Int64Index: 8914 entries, 0 to 9092\n",
      "Data columns (total 3 columns):\n",
      " #   Column            Non-Null Count  Dtype \n",
      "---  ------            --------------  ----- \n",
      " 0   tweet             8914 non-null   object\n",
      " 1   brand_or_product  8914 non-null   object\n",
      " 2   sentiment         8914 non-null   object\n",
      "dtypes: object(3)\n",
      "memory usage: 278.6+ KB\n",
      "None\n"
     ]
    }
   ],
   "source": [
    "#fill missing rows with 'Unknown'\n",
    "df['brand_or_product'].fillna('Unknown', inplace=True)\n",
    "print(df.info())"
   ]
  },
  {
   "cell_type": "markdown",
   "metadata": {},
   "source": [
    "### Data Cleaning\n",
    "\n",
    "We performed standard actions such as standardizing and tokenizing the data. "
   ]
  },
  {
   "cell_type": "markdown",
   "metadata": {},
   "source": [
    "#### Standardizing Case\n",
    "\n",
    "We explored some tweets and decided to lowercase all text. "
   ]
  },
  {
   "cell_type": "code",
   "execution_count": 23,
   "metadata": {},
   "outputs": [
    {
     "name": "stdout",
     "output_type": "stream",
     "text": [
      "['.@wesley83 I have a 3G iPhone. After 3 hrs tweeting at #RISE_Austin, it was dead!  I need to upgrade. Plugin stations at #SXSW.', \"@jessedee Know about @fludapp ? Awesome iPad/iPhone app that you'll likely appreciate for its design. Also, they're giving free Ts at #SXSW\", '@swonderlin Can not wait for #iPad 2 also. They should sale them down at #SXSW.', \"@sxsw I hope this year's festival isn't as crashy as this year's iPhone app. #sxsw\", \"@sxtxstate great stuff on Fri #SXSW: Marissa Mayer (Google), Tim O'Reilly (tech books/conferences) &amp; Matt Mullenweg (Wordpress)\", '@teachntech00 New iPad Apps For #SpeechTherapy And Communication Are Showcased At The #SXSW Conference http://ht.ly/49n4M #iear #edchat #asd', '#SXSW is just starting, #CTIA is around the corner and #googleio is only a hop skip and a jump from there, good time to be an #android fan', 'Beautifully smart and simple idea RT @madebymany @thenextweb wrote about our #hollergram iPad app for #sxsw! http://bit.ly/ieaVOB', 'Counting down the days to #sxsw plus strong Canadian dollar means stock up on Apple gear', 'Excited to meet the @samsungmobileus at #sxsw so I can show them my Sprint Galaxy S still running Android 2.1.   #fail']\n"
     ]
    }
   ],
   "source": [
    "#look at examples of tweets to inspect for spelling\n",
    "print(df[\"tweet\"].to_list()[:10])"
   ]
  },
  {
   "cell_type": "markdown",
   "metadata": {},
   "source": [
    "Given that we have instances of SXSW and sxsw that we want to treat as the same, and there presumably may be instances of different capitalizations of terms like \"Apple\" and \"iPhone\", we proceed to lowercase all tweets in our dataset."
   ]
  },
  {
   "cell_type": "code",
   "execution_count": 24,
   "metadata": {},
   "outputs": [
    {
     "name": "stdout",
     "output_type": "stream",
     "text": [
      "ûï@mention {link} &lt;-- help me forward this doc to all anonymous accounts, techies,&amp; ppl who can help us jam #libya #sxsw\n"
     ]
    }
   ],
   "source": [
    "# Transform tweets to lowercase\n",
    "df[\"tweet\"] = df[\"tweet\"].str.lower()\n",
    "\n",
    "#print example\n",
    "print(df.iloc[50][\"tweet\"])"
   ]
  },
  {
   "cell_type": "markdown",
   "metadata": {},
   "source": [
    "#### Tokenize the Full Dataset"
   ]
  },
  {
   "cell_type": "markdown",
   "metadata": {},
   "source": [
    "We proceeded to create a tokenizer pattern and test it on a sample of rows"
   ]
  },
  {
   "cell_type": "code",
   "execution_count": 25,
   "metadata": {},
   "outputs": [
    {
     "name": "stdout",
     "output_type": "stream",
     "text": [
      "[['wesley83', 'have', '3g', 'iphone', 'after', 'hrs', 'tweeting', 'at', 'rise_austin', 'it', 'was', 'dead', 'need', 'to', 'upgrade', 'plugin', 'stations', 'at', 'sxsw'], ['jessedee', 'know', 'about', 'fludapp', 'awesome', 'ipad', 'iphone', 'app', 'that', 'you', 'll', 'likely', 'appreciate', 'for', 'its', 'design', 'also', 'they', 're', 'giving', 'free', 'ts', 'at', 'sxsw'], ['swonderlin', 'can', 'not', 'wait', 'for', 'ipad', 'also', 'they', 'should', 'sale', 'them', 'down', 'at', 'sxsw'], ['sxsw', 'hope', 'this', 'year', 'festival', 'isn', 'as', 'crashy', 'as', 'this', 'year', 'iphone', 'app', 'sxsw'], ['sxtxstate', 'great', 'stuff', 'on', 'fri', 'sxsw', 'marissa', 'mayer', 'google', 'tim', 'reilly', 'tech', 'books', 'conferences', 'amp', 'matt', 'mullenweg', 'wordpress'], ['teachntech00', 'new', 'ipad', 'apps', 'for', 'speechtherapy', 'and', 'communication', 'are', 'showcased', 'at', 'the', 'sxsw', 'conference', 'http', 'ht', 'ly', '49n4m', 'iear', 'edchat', 'asd']]\n"
     ]
    }
   ],
   "source": [
    "#create a tokenizer pattern to avoid unnecessary separate treatment of words \n",
    "basic_token_pattern = r\"(?u)\\b\\w\\w+\\b\"\n",
    "\n",
    "tokenizer = RegexpTokenizer(basic_token_pattern)\n",
    "\n",
    "tweets = df.loc[:5, \"tweet\"].tolist()  # Convert the slice to a list of strings\n",
    "tokenized_tweets = [tokenizer.tokenize(tweet) for tweet in tweets[:10]]  # Tokenize the first 10 tweets\n",
    "print(tokenized_tweets)"
   ]
  },
  {
   "cell_type": "markdown",
   "metadata": {},
   "source": [
    "We then applied the pattern to the entire dataframe, creating a new column to display the results."
   ]
  },
  {
   "cell_type": "code",
   "execution_count": 26,
   "metadata": {},
   "outputs": [
    {
     "data": {
      "text/html": [
       "<style  type=\"text/css\" >\n",
       "#T_eabbdfc2_38e2_11ef_961c_186590d3d591row0_col0,#T_eabbdfc2_38e2_11ef_961c_186590d3d591row0_col1,#T_eabbdfc2_38e2_11ef_961c_186590d3d591row0_col2,#T_eabbdfc2_38e2_11ef_961c_186590d3d591row0_col3,#T_eabbdfc2_38e2_11ef_961c_186590d3d591row1_col0,#T_eabbdfc2_38e2_11ef_961c_186590d3d591row1_col1,#T_eabbdfc2_38e2_11ef_961c_186590d3d591row1_col2,#T_eabbdfc2_38e2_11ef_961c_186590d3d591row1_col3,#T_eabbdfc2_38e2_11ef_961c_186590d3d591row2_col0,#T_eabbdfc2_38e2_11ef_961c_186590d3d591row2_col1,#T_eabbdfc2_38e2_11ef_961c_186590d3d591row2_col2,#T_eabbdfc2_38e2_11ef_961c_186590d3d591row2_col3,#T_eabbdfc2_38e2_11ef_961c_186590d3d591row3_col0,#T_eabbdfc2_38e2_11ef_961c_186590d3d591row3_col1,#T_eabbdfc2_38e2_11ef_961c_186590d3d591row3_col2,#T_eabbdfc2_38e2_11ef_961c_186590d3d591row3_col3,#T_eabbdfc2_38e2_11ef_961c_186590d3d591row4_col0,#T_eabbdfc2_38e2_11ef_961c_186590d3d591row4_col1,#T_eabbdfc2_38e2_11ef_961c_186590d3d591row4_col2,#T_eabbdfc2_38e2_11ef_961c_186590d3d591row4_col3{\n",
       "            text-align:  left;\n",
       "        }</style><table id=\"T_eabbdfc2_38e2_11ef_961c_186590d3d591\" ><thead>    <tr>        <th class=\"blank level0\" ></th>        <th class=\"col_heading level0 col0\" >tweet</th>        <th class=\"col_heading level0 col1\" >brand_or_product</th>        <th class=\"col_heading level0 col2\" >sentiment</th>        <th class=\"col_heading level0 col3\" >tweet_tokenized</th>    </tr></thead><tbody>\n",
       "                <tr>\n",
       "                        <th id=\"T_eabbdfc2_38e2_11ef_961c_186590d3d591level0_row0\" class=\"row_heading level0 row0\" >0</th>\n",
       "                        <td id=\"T_eabbdfc2_38e2_11ef_961c_186590d3d591row0_col0\" class=\"data row0 col0\" >.@wesley83 i have a 3g iphone. after 3 hrs tweeting at #rise_austin, it was dead!  i need to upgrade. plugin stations at #sxsw.</td>\n",
       "                        <td id=\"T_eabbdfc2_38e2_11ef_961c_186590d3d591row0_col1\" class=\"data row0 col1\" >iPhone</td>\n",
       "                        <td id=\"T_eabbdfc2_38e2_11ef_961c_186590d3d591row0_col2\" class=\"data row0 col2\" >Negative</td>\n",
       "                        <td id=\"T_eabbdfc2_38e2_11ef_961c_186590d3d591row0_col3\" class=\"data row0 col3\" >['wesley83', 'have', '3g', 'iphone', 'after', 'hrs', 'tweeting', 'at', 'rise_austin', 'it', 'was', 'dead', 'need', 'to', 'upgrade', 'plugin', 'stations', 'at', 'sxsw']</td>\n",
       "            </tr>\n",
       "            <tr>\n",
       "                        <th id=\"T_eabbdfc2_38e2_11ef_961c_186590d3d591level0_row1\" class=\"row_heading level0 row1\" >1</th>\n",
       "                        <td id=\"T_eabbdfc2_38e2_11ef_961c_186590d3d591row1_col0\" class=\"data row1 col0\" >@jessedee know about @fludapp ? awesome ipad/iphone app that you'll likely appreciate for its design. also, they're giving free ts at #sxsw</td>\n",
       "                        <td id=\"T_eabbdfc2_38e2_11ef_961c_186590d3d591row1_col1\" class=\"data row1 col1\" >iPad or iPhone App</td>\n",
       "                        <td id=\"T_eabbdfc2_38e2_11ef_961c_186590d3d591row1_col2\" class=\"data row1 col2\" >Positive</td>\n",
       "                        <td id=\"T_eabbdfc2_38e2_11ef_961c_186590d3d591row1_col3\" class=\"data row1 col3\" >['jessedee', 'know', 'about', 'fludapp', 'awesome', 'ipad', 'iphone', 'app', 'that', 'you', 'll', 'likely', 'appreciate', 'for', 'its', 'design', 'also', 'they', 're', 'giving', 'free', 'ts', 'at', 'sxsw']</td>\n",
       "            </tr>\n",
       "            <tr>\n",
       "                        <th id=\"T_eabbdfc2_38e2_11ef_961c_186590d3d591level0_row2\" class=\"row_heading level0 row2\" >2</th>\n",
       "                        <td id=\"T_eabbdfc2_38e2_11ef_961c_186590d3d591row2_col0\" class=\"data row2 col0\" >@swonderlin can not wait for #ipad 2 also. they should sale them down at #sxsw.</td>\n",
       "                        <td id=\"T_eabbdfc2_38e2_11ef_961c_186590d3d591row2_col1\" class=\"data row2 col1\" >iPad</td>\n",
       "                        <td id=\"T_eabbdfc2_38e2_11ef_961c_186590d3d591row2_col2\" class=\"data row2 col2\" >Positive</td>\n",
       "                        <td id=\"T_eabbdfc2_38e2_11ef_961c_186590d3d591row2_col3\" class=\"data row2 col3\" >['swonderlin', 'can', 'not', 'wait', 'for', 'ipad', 'also', 'they', 'should', 'sale', 'them', 'down', 'at', 'sxsw']</td>\n",
       "            </tr>\n",
       "            <tr>\n",
       "                        <th id=\"T_eabbdfc2_38e2_11ef_961c_186590d3d591level0_row3\" class=\"row_heading level0 row3\" >3</th>\n",
       "                        <td id=\"T_eabbdfc2_38e2_11ef_961c_186590d3d591row3_col0\" class=\"data row3 col0\" >@sxsw i hope this year's festival isn't as crashy as this year's iphone app. #sxsw</td>\n",
       "                        <td id=\"T_eabbdfc2_38e2_11ef_961c_186590d3d591row3_col1\" class=\"data row3 col1\" >iPad or iPhone App</td>\n",
       "                        <td id=\"T_eabbdfc2_38e2_11ef_961c_186590d3d591row3_col2\" class=\"data row3 col2\" >Negative</td>\n",
       "                        <td id=\"T_eabbdfc2_38e2_11ef_961c_186590d3d591row3_col3\" class=\"data row3 col3\" >['sxsw', 'hope', 'this', 'year', 'festival', 'isn', 'as', 'crashy', 'as', 'this', 'year', 'iphone', 'app', 'sxsw']</td>\n",
       "            </tr>\n",
       "            <tr>\n",
       "                        <th id=\"T_eabbdfc2_38e2_11ef_961c_186590d3d591level0_row4\" class=\"row_heading level0 row4\" >4</th>\n",
       "                        <td id=\"T_eabbdfc2_38e2_11ef_961c_186590d3d591row4_col0\" class=\"data row4 col0\" >@sxtxstate great stuff on fri #sxsw: marissa mayer (google), tim o'reilly (tech books/conferences) &amp; matt mullenweg (wordpress)</td>\n",
       "                        <td id=\"T_eabbdfc2_38e2_11ef_961c_186590d3d591row4_col1\" class=\"data row4 col1\" >Google</td>\n",
       "                        <td id=\"T_eabbdfc2_38e2_11ef_961c_186590d3d591row4_col2\" class=\"data row4 col2\" >Positive</td>\n",
       "                        <td id=\"T_eabbdfc2_38e2_11ef_961c_186590d3d591row4_col3\" class=\"data row4 col3\" >['sxtxstate', 'great', 'stuff', 'on', 'fri', 'sxsw', 'marissa', 'mayer', 'google', 'tim', 'reilly', 'tech', 'books', 'conferences', 'amp', 'matt', 'mullenweg', 'wordpress']</td>\n",
       "            </tr>\n",
       "    </tbody></table>"
      ],
      "text/plain": [
       "<pandas.io.formats.style.Styler at 0x7fb30fe1fc10>"
      ]
     },
     "execution_count": 26,
     "metadata": {},
     "output_type": "execute_result"
    }
   ],
   "source": [
    "# Create new column with tokenized data\n",
    "df[\"tweet_tokenized\"] = df[\"tweet\"].apply(tokenizer.tokenize)\n",
    "# Display full text\n",
    "df.head().style.set_properties(**{'text-align': 'left'})"
   ]
  },
  {
   "cell_type": "markdown",
   "metadata": {},
   "source": [
    "#### Stop Word Removal\n",
    "\n",
    "First we got all the english stop words and stored them in a variable. "
   ]
  },
  {
   "cell_type": "code",
   "execution_count": 27,
   "metadata": {},
   "outputs": [],
   "source": [
    "#create a stop words list and add all english words, plus punctuation and numbers\n",
    "stopwords_list = stopwords.words('english')\n",
    "stopwords_list += list(string.punctuation)\n",
    "stopwords_list += ['0', '1', '2', '3', '4', '5', '6', '7', '8', '9']\n",
    "\n",
    "#store stop words in variable\n",
    "tweet_words_stopped = [word for row in df['tweet_tokenized'] for word in row if word not in stopwords_list]"
   ]
  },
  {
   "cell_type": "markdown",
   "metadata": {},
   "source": [
    "Then we created a frequency distribution to see if removing stop words helped. "
   ]
  },
  {
   "cell_type": "code",
   "execution_count": 28,
   "metadata": {},
   "outputs": [
    {
     "name": "stdout",
     "output_type": "stream",
     "text": [
      "[('sxsw', 9444), ('mention', 7006), ('link', 4249), ('rt', 2919), ('google', 2602), ('ipad', 2472), ('apple', 2294), ('quot', 1657), ('iphone', 1551), ('store', 1463), ('new', 1075), ('austin', 955), ('amp', 827), ('app', 819), ('circles', 649), ('social', 648), ('launch', 640), ('android', 590), ('pop', 586), ('today', 569), ('ipad2', 459), ('network', 452), ('via', 428), ('line', 401), ('get', 392), ('free', 390), ('party', 349), ('called', 347), ('mobile', 345), ('sxswi', 338), ('one', 309), ('major', 296), ('like', 284), ('time', 270), ('temporary', 264), ('opening', 256), ('check', 254), ('possibly', 233), ('day', 230), ('people', 226), ('downtown', 225), ('apps', 222), ('great', 221), ('see', 221), ('maps', 217), ('open', 214), ('going', 213), ('mayer', 212), ('popup', 210), ('go', 205)]\n"
     ]
    }
   ],
   "source": [
    "#create a frequency distribution of the stop words list\n",
    "tweet_stopped_freqdist = FreqDist(tweet_words_stopped)\n",
    "\n",
    "#display the 50 most common\n",
    "print(tweet_stopped_freqdist.most_common(50))"
   ]
  },
  {
   "cell_type": "markdown",
   "metadata": {},
   "source": [
    "Next we created a function to remove the stop words from our tokenized tweets."
   ]
  },
  {
   "cell_type": "code",
   "execution_count": 29,
   "metadata": {},
   "outputs": [
    {
     "data": {
      "text/html": [
       "<style  type=\"text/css\" >\n",
       "#T_eb5b9f80_38e2_11ef_961c_186590d3d591row0_col0,#T_eb5b9f80_38e2_11ef_961c_186590d3d591row0_col1,#T_eb5b9f80_38e2_11ef_961c_186590d3d591row0_col2,#T_eb5b9f80_38e2_11ef_961c_186590d3d591row0_col3,#T_eb5b9f80_38e2_11ef_961c_186590d3d591row1_col0,#T_eb5b9f80_38e2_11ef_961c_186590d3d591row1_col1,#T_eb5b9f80_38e2_11ef_961c_186590d3d591row1_col2,#T_eb5b9f80_38e2_11ef_961c_186590d3d591row1_col3,#T_eb5b9f80_38e2_11ef_961c_186590d3d591row2_col0,#T_eb5b9f80_38e2_11ef_961c_186590d3d591row2_col1,#T_eb5b9f80_38e2_11ef_961c_186590d3d591row2_col2,#T_eb5b9f80_38e2_11ef_961c_186590d3d591row2_col3,#T_eb5b9f80_38e2_11ef_961c_186590d3d591row3_col0,#T_eb5b9f80_38e2_11ef_961c_186590d3d591row3_col1,#T_eb5b9f80_38e2_11ef_961c_186590d3d591row3_col2,#T_eb5b9f80_38e2_11ef_961c_186590d3d591row3_col3,#T_eb5b9f80_38e2_11ef_961c_186590d3d591row4_col0,#T_eb5b9f80_38e2_11ef_961c_186590d3d591row4_col1,#T_eb5b9f80_38e2_11ef_961c_186590d3d591row4_col2,#T_eb5b9f80_38e2_11ef_961c_186590d3d591row4_col3{\n",
       "            text-align:  left;\n",
       "        }</style><table id=\"T_eb5b9f80_38e2_11ef_961c_186590d3d591\" ><thead>    <tr>        <th class=\"blank level0\" ></th>        <th class=\"col_heading level0 col0\" >tweet</th>        <th class=\"col_heading level0 col1\" >brand_or_product</th>        <th class=\"col_heading level0 col2\" >sentiment</th>        <th class=\"col_heading level0 col3\" >tweet_tokenized</th>    </tr></thead><tbody>\n",
       "                <tr>\n",
       "                        <th id=\"T_eb5b9f80_38e2_11ef_961c_186590d3d591level0_row0\" class=\"row_heading level0 row0\" >0</th>\n",
       "                        <td id=\"T_eb5b9f80_38e2_11ef_961c_186590d3d591row0_col0\" class=\"data row0 col0\" >.@wesley83 i have a 3g iphone. after 3 hrs tweeting at #rise_austin, it was dead!  i need to upgrade. plugin stations at #sxsw.</td>\n",
       "                        <td id=\"T_eb5b9f80_38e2_11ef_961c_186590d3d591row0_col1\" class=\"data row0 col1\" >iPhone</td>\n",
       "                        <td id=\"T_eb5b9f80_38e2_11ef_961c_186590d3d591row0_col2\" class=\"data row0 col2\" >Negative</td>\n",
       "                        <td id=\"T_eb5b9f80_38e2_11ef_961c_186590d3d591row0_col3\" class=\"data row0 col3\" >['wesley83', '3g', 'iphone', 'hrs', 'tweeting', 'rise_austin', 'dead', 'need', 'upgrade', 'plugin', 'stations', 'sxsw']</td>\n",
       "            </tr>\n",
       "            <tr>\n",
       "                        <th id=\"T_eb5b9f80_38e2_11ef_961c_186590d3d591level0_row1\" class=\"row_heading level0 row1\" >1</th>\n",
       "                        <td id=\"T_eb5b9f80_38e2_11ef_961c_186590d3d591row1_col0\" class=\"data row1 col0\" >@jessedee know about @fludapp ? awesome ipad/iphone app that you'll likely appreciate for its design. also, they're giving free ts at #sxsw</td>\n",
       "                        <td id=\"T_eb5b9f80_38e2_11ef_961c_186590d3d591row1_col1\" class=\"data row1 col1\" >iPad or iPhone App</td>\n",
       "                        <td id=\"T_eb5b9f80_38e2_11ef_961c_186590d3d591row1_col2\" class=\"data row1 col2\" >Positive</td>\n",
       "                        <td id=\"T_eb5b9f80_38e2_11ef_961c_186590d3d591row1_col3\" class=\"data row1 col3\" >['jessedee', 'know', 'fludapp', 'awesome', 'ipad', 'iphone', 'app', 'likely', 'appreciate', 'design', 'also', 'giving', 'free', 'ts', 'sxsw']</td>\n",
       "            </tr>\n",
       "            <tr>\n",
       "                        <th id=\"T_eb5b9f80_38e2_11ef_961c_186590d3d591level0_row2\" class=\"row_heading level0 row2\" >2</th>\n",
       "                        <td id=\"T_eb5b9f80_38e2_11ef_961c_186590d3d591row2_col0\" class=\"data row2 col0\" >@swonderlin can not wait for #ipad 2 also. they should sale them down at #sxsw.</td>\n",
       "                        <td id=\"T_eb5b9f80_38e2_11ef_961c_186590d3d591row2_col1\" class=\"data row2 col1\" >iPad</td>\n",
       "                        <td id=\"T_eb5b9f80_38e2_11ef_961c_186590d3d591row2_col2\" class=\"data row2 col2\" >Positive</td>\n",
       "                        <td id=\"T_eb5b9f80_38e2_11ef_961c_186590d3d591row2_col3\" class=\"data row2 col3\" >['swonderlin', 'wait', 'ipad', 'also', 'sale', 'sxsw']</td>\n",
       "            </tr>\n",
       "            <tr>\n",
       "                        <th id=\"T_eb5b9f80_38e2_11ef_961c_186590d3d591level0_row3\" class=\"row_heading level0 row3\" >3</th>\n",
       "                        <td id=\"T_eb5b9f80_38e2_11ef_961c_186590d3d591row3_col0\" class=\"data row3 col0\" >@sxsw i hope this year's festival isn't as crashy as this year's iphone app. #sxsw</td>\n",
       "                        <td id=\"T_eb5b9f80_38e2_11ef_961c_186590d3d591row3_col1\" class=\"data row3 col1\" >iPad or iPhone App</td>\n",
       "                        <td id=\"T_eb5b9f80_38e2_11ef_961c_186590d3d591row3_col2\" class=\"data row3 col2\" >Negative</td>\n",
       "                        <td id=\"T_eb5b9f80_38e2_11ef_961c_186590d3d591row3_col3\" class=\"data row3 col3\" >['sxsw', 'hope', 'year', 'festival', 'crashy', 'year', 'iphone', 'app', 'sxsw']</td>\n",
       "            </tr>\n",
       "            <tr>\n",
       "                        <th id=\"T_eb5b9f80_38e2_11ef_961c_186590d3d591level0_row4\" class=\"row_heading level0 row4\" >4</th>\n",
       "                        <td id=\"T_eb5b9f80_38e2_11ef_961c_186590d3d591row4_col0\" class=\"data row4 col0\" >@sxtxstate great stuff on fri #sxsw: marissa mayer (google), tim o'reilly (tech books/conferences) &amp; matt mullenweg (wordpress)</td>\n",
       "                        <td id=\"T_eb5b9f80_38e2_11ef_961c_186590d3d591row4_col1\" class=\"data row4 col1\" >Google</td>\n",
       "                        <td id=\"T_eb5b9f80_38e2_11ef_961c_186590d3d591row4_col2\" class=\"data row4 col2\" >Positive</td>\n",
       "                        <td id=\"T_eb5b9f80_38e2_11ef_961c_186590d3d591row4_col3\" class=\"data row4 col3\" >['sxtxstate', 'great', 'stuff', 'fri', 'sxsw', 'marissa', 'mayer', 'google', 'tim', 'reilly', 'tech', 'books', 'conferences', 'amp', 'matt', 'mullenweg', 'wordpress']</td>\n",
       "            </tr>\n",
       "    </tbody></table>"
      ],
      "text/plain": [
       "<pandas.io.formats.style.Styler at 0x7fb30fd724c0>"
      ]
     },
     "execution_count": 29,
     "metadata": {},
     "output_type": "execute_result"
    }
   ],
   "source": [
    "# Function to remove stopwords and additional words\n",
    "def remove_stopwords(row):\n",
    "    tokens = row['tweet_tokenized']\n",
    "    filtered_tokens = [word for word in tokens if word not in stopwords_list]\n",
    "    return filtered_tokens\n",
    "\n",
    "# Apply the function to remove stopwords and additional words\n",
    "df['tweet_tokenized'] = df.apply(lambda row: remove_stopwords(row), axis=1)\n",
    "\n",
    "# Display\n",
    "df.head().style.set_properties(**{'text-align': 'left'})"
   ]
  },
  {
   "cell_type": "markdown",
   "metadata": {},
   "source": [
    "#### Stemming The Tokenized Text\n",
    "\n",
    "Next thing we did was create a stemming function to ensure we don't lose important text when we remove stop words."
   ]
  },
  {
   "cell_type": "code",
   "execution_count": 30,
   "metadata": {},
   "outputs": [
    {
     "data": {
      "text/html": [
       "<style  type=\"text/css\" >\n",
       "#T_ecd18d34_38e2_11ef_961c_186590d3d591row0_col0,#T_ecd18d34_38e2_11ef_961c_186590d3d591row0_col1,#T_ecd18d34_38e2_11ef_961c_186590d3d591row0_col2,#T_ecd18d34_38e2_11ef_961c_186590d3d591row0_col3,#T_ecd18d34_38e2_11ef_961c_186590d3d591row0_col4,#T_ecd18d34_38e2_11ef_961c_186590d3d591row1_col0,#T_ecd18d34_38e2_11ef_961c_186590d3d591row1_col1,#T_ecd18d34_38e2_11ef_961c_186590d3d591row1_col2,#T_ecd18d34_38e2_11ef_961c_186590d3d591row1_col3,#T_ecd18d34_38e2_11ef_961c_186590d3d591row1_col4,#T_ecd18d34_38e2_11ef_961c_186590d3d591row2_col0,#T_ecd18d34_38e2_11ef_961c_186590d3d591row2_col1,#T_ecd18d34_38e2_11ef_961c_186590d3d591row2_col2,#T_ecd18d34_38e2_11ef_961c_186590d3d591row2_col3,#T_ecd18d34_38e2_11ef_961c_186590d3d591row2_col4,#T_ecd18d34_38e2_11ef_961c_186590d3d591row3_col0,#T_ecd18d34_38e2_11ef_961c_186590d3d591row3_col1,#T_ecd18d34_38e2_11ef_961c_186590d3d591row3_col2,#T_ecd18d34_38e2_11ef_961c_186590d3d591row3_col3,#T_ecd18d34_38e2_11ef_961c_186590d3d591row3_col4,#T_ecd18d34_38e2_11ef_961c_186590d3d591row4_col0,#T_ecd18d34_38e2_11ef_961c_186590d3d591row4_col1,#T_ecd18d34_38e2_11ef_961c_186590d3d591row4_col2,#T_ecd18d34_38e2_11ef_961c_186590d3d591row4_col3,#T_ecd18d34_38e2_11ef_961c_186590d3d591row4_col4{\n",
       "            text-align:  left;\n",
       "        }</style><table id=\"T_ecd18d34_38e2_11ef_961c_186590d3d591\" ><thead>    <tr>        <th class=\"blank level0\" ></th>        <th class=\"col_heading level0 col0\" >tweet</th>        <th class=\"col_heading level0 col1\" >brand_or_product</th>        <th class=\"col_heading level0 col2\" >sentiment</th>        <th class=\"col_heading level0 col3\" >tweet_tokenized</th>        <th class=\"col_heading level0 col4\" >tweet_stemmed</th>    </tr></thead><tbody>\n",
       "                <tr>\n",
       "                        <th id=\"T_ecd18d34_38e2_11ef_961c_186590d3d591level0_row0\" class=\"row_heading level0 row0\" >0</th>\n",
       "                        <td id=\"T_ecd18d34_38e2_11ef_961c_186590d3d591row0_col0\" class=\"data row0 col0\" >.@wesley83 i have a 3g iphone. after 3 hrs tweeting at #rise_austin, it was dead!  i need to upgrade. plugin stations at #sxsw.</td>\n",
       "                        <td id=\"T_ecd18d34_38e2_11ef_961c_186590d3d591row0_col1\" class=\"data row0 col1\" >iPhone</td>\n",
       "                        <td id=\"T_ecd18d34_38e2_11ef_961c_186590d3d591row0_col2\" class=\"data row0 col2\" >Negative</td>\n",
       "                        <td id=\"T_ecd18d34_38e2_11ef_961c_186590d3d591row0_col3\" class=\"data row0 col3\" >['wesley83', '3g', 'iphone', 'hrs', 'tweeting', 'rise_austin', 'dead', 'need', 'upgrade', 'plugin', 'stations', 'sxsw']</td>\n",
       "                        <td id=\"T_ecd18d34_38e2_11ef_961c_186590d3d591row0_col4\" class=\"data row0 col4\" >['wesley83', '3g', 'iphon', 'hr', 'tweet', 'rise_austin', 'dead', 'need', 'upgrad', 'plugin', 'station', 'sxsw']</td>\n",
       "            </tr>\n",
       "            <tr>\n",
       "                        <th id=\"T_ecd18d34_38e2_11ef_961c_186590d3d591level0_row1\" class=\"row_heading level0 row1\" >1</th>\n",
       "                        <td id=\"T_ecd18d34_38e2_11ef_961c_186590d3d591row1_col0\" class=\"data row1 col0\" >@jessedee know about @fludapp ? awesome ipad/iphone app that you'll likely appreciate for its design. also, they're giving free ts at #sxsw</td>\n",
       "                        <td id=\"T_ecd18d34_38e2_11ef_961c_186590d3d591row1_col1\" class=\"data row1 col1\" >iPad or iPhone App</td>\n",
       "                        <td id=\"T_ecd18d34_38e2_11ef_961c_186590d3d591row1_col2\" class=\"data row1 col2\" >Positive</td>\n",
       "                        <td id=\"T_ecd18d34_38e2_11ef_961c_186590d3d591row1_col3\" class=\"data row1 col3\" >['jessedee', 'know', 'fludapp', 'awesome', 'ipad', 'iphone', 'app', 'likely', 'appreciate', 'design', 'also', 'giving', 'free', 'ts', 'sxsw']</td>\n",
       "                        <td id=\"T_ecd18d34_38e2_11ef_961c_186590d3d591row1_col4\" class=\"data row1 col4\" >['jessede', 'know', 'fludapp', 'awesom', 'ipad', 'iphon', 'app', 'like', 'appreci', 'design', 'also', 'give', 'free', 'ts', 'sxsw']</td>\n",
       "            </tr>\n",
       "            <tr>\n",
       "                        <th id=\"T_ecd18d34_38e2_11ef_961c_186590d3d591level0_row2\" class=\"row_heading level0 row2\" >2</th>\n",
       "                        <td id=\"T_ecd18d34_38e2_11ef_961c_186590d3d591row2_col0\" class=\"data row2 col0\" >@swonderlin can not wait for #ipad 2 also. they should sale them down at #sxsw.</td>\n",
       "                        <td id=\"T_ecd18d34_38e2_11ef_961c_186590d3d591row2_col1\" class=\"data row2 col1\" >iPad</td>\n",
       "                        <td id=\"T_ecd18d34_38e2_11ef_961c_186590d3d591row2_col2\" class=\"data row2 col2\" >Positive</td>\n",
       "                        <td id=\"T_ecd18d34_38e2_11ef_961c_186590d3d591row2_col3\" class=\"data row2 col3\" >['swonderlin', 'wait', 'ipad', 'also', 'sale', 'sxsw']</td>\n",
       "                        <td id=\"T_ecd18d34_38e2_11ef_961c_186590d3d591row2_col4\" class=\"data row2 col4\" >['swonderlin', 'wait', 'ipad', 'also', 'sale', 'sxsw']</td>\n",
       "            </tr>\n",
       "            <tr>\n",
       "                        <th id=\"T_ecd18d34_38e2_11ef_961c_186590d3d591level0_row3\" class=\"row_heading level0 row3\" >3</th>\n",
       "                        <td id=\"T_ecd18d34_38e2_11ef_961c_186590d3d591row3_col0\" class=\"data row3 col0\" >@sxsw i hope this year's festival isn't as crashy as this year's iphone app. #sxsw</td>\n",
       "                        <td id=\"T_ecd18d34_38e2_11ef_961c_186590d3d591row3_col1\" class=\"data row3 col1\" >iPad or iPhone App</td>\n",
       "                        <td id=\"T_ecd18d34_38e2_11ef_961c_186590d3d591row3_col2\" class=\"data row3 col2\" >Negative</td>\n",
       "                        <td id=\"T_ecd18d34_38e2_11ef_961c_186590d3d591row3_col3\" class=\"data row3 col3\" >['sxsw', 'hope', 'year', 'festival', 'crashy', 'year', 'iphone', 'app', 'sxsw']</td>\n",
       "                        <td id=\"T_ecd18d34_38e2_11ef_961c_186590d3d591row3_col4\" class=\"data row3 col4\" >['sxsw', 'hope', 'year', 'festiv', 'crashi', 'year', 'iphon', 'app', 'sxsw']</td>\n",
       "            </tr>\n",
       "            <tr>\n",
       "                        <th id=\"T_ecd18d34_38e2_11ef_961c_186590d3d591level0_row4\" class=\"row_heading level0 row4\" >4</th>\n",
       "                        <td id=\"T_ecd18d34_38e2_11ef_961c_186590d3d591row4_col0\" class=\"data row4 col0\" >@sxtxstate great stuff on fri #sxsw: marissa mayer (google), tim o'reilly (tech books/conferences) &amp; matt mullenweg (wordpress)</td>\n",
       "                        <td id=\"T_ecd18d34_38e2_11ef_961c_186590d3d591row4_col1\" class=\"data row4 col1\" >Google</td>\n",
       "                        <td id=\"T_ecd18d34_38e2_11ef_961c_186590d3d591row4_col2\" class=\"data row4 col2\" >Positive</td>\n",
       "                        <td id=\"T_ecd18d34_38e2_11ef_961c_186590d3d591row4_col3\" class=\"data row4 col3\" >['sxtxstate', 'great', 'stuff', 'fri', 'sxsw', 'marissa', 'mayer', 'google', 'tim', 'reilly', 'tech', 'books', 'conferences', 'amp', 'matt', 'mullenweg', 'wordpress']</td>\n",
       "                        <td id=\"T_ecd18d34_38e2_11ef_961c_186590d3d591row4_col4\" class=\"data row4 col4\" >['sxtxstate', 'great', 'stuff', 'fri', 'sxsw', 'marissa', 'mayer', 'googl', 'tim', 'reilli', 'tech', 'book', 'confer', 'amp', 'matt', 'mullenweg', 'wordpress']</td>\n",
       "            </tr>\n",
       "    </tbody></table>"
      ],
      "text/plain": [
       "<pandas.io.formats.style.Styler at 0x7fb310f46250>"
      ]
     },
     "execution_count": 30,
     "metadata": {},
     "output_type": "execute_result"
    }
   ],
   "source": [
    "#instantiate a PorterStemmer function\n",
    "stemmer = PorterStemmer()\n",
    "\n",
    "#apply the function to the tweet_tokenized column\n",
    "df['tweet_stemmed'] = df['tweet_tokenized'].apply(lambda x: [stemmer.stem(word) for word in x])\n",
    "\n",
    "# Display full text\n",
    "df.head().style.set_properties(**{'text-align': 'left'})"
   ]
  },
  {
   "cell_type": "markdown",
   "metadata": {},
   "source": [
    "### Exploratory Data Analysis: Frequency Distributions\n",
    "\n",
    "In this section, we looked at the frequency of words from the tweets in our dataset."
   ]
  },
  {
   "cell_type": "code",
   "execution_count": 31,
   "metadata": {},
   "outputs": [],
   "source": [
    "#write a function for visualizing the top 10 most frequent words \n",
    "def visualize_top_10(freq_dist, title):\n",
    "\n",
    "    # Extract data for plotting\n",
    "    top_10 = list(zip(*freq_dist.most_common(10)))\n",
    "    tokens = top_10[0]\n",
    "    counts = top_10[1]\n",
    "\n",
    "    # Set up plot and plot data\n",
    "    fig, ax = plt.subplots()\n",
    "    ax.bar(tokens, counts)\n",
    "\n",
    "    # Customize plot appearance\n",
    "    ax.set_title(title)\n",
    "    ax.set_ylabel(\"Count\")\n",
    "    ax.yaxis.set_major_locator(MaxNLocator(integer=True))\n",
    "    ax.tick_params(axis=\"x\", rotation=90)"
   ]
  },
  {
   "cell_type": "code",
   "execution_count": 32,
   "metadata": {},
   "outputs": [
    {
     "data": {
      "image/png": "[encoded data removed]",
      "text/plain": [
       "<Figure size 432x288 with 1 Axes>"
      ]
     },
     "metadata": {
      "needs_background": "light"
     },
     "output_type": "display_data"
    }
   ],
   "source": [
    "# Create a frequency distribution for X_train\n",
    "df_freq_dist = FreqDist(df[\"tweet_stemmed\"].explode())\n",
    "\n",
    "# Plot the top 10 tokens\n",
    "visualize_top_10(df_freq_dist, \"Top 10 Word Frequency\")"
   ]
  },
  {
   "cell_type": "markdown",
   "metadata": {},
   "source": [
    "We saw that there continues to be stop words in our top 10 frequency distribution that need to be removed."
   ]
  },
  {
   "cell_type": "markdown",
   "metadata": {},
   "source": [
    "#### More Word Inspection and Removal \n",
    "\n",
    "We continue to look at the top frequent words and inspect their context, such as mention and link, to see if they don't serve us much purpose and need to be removed."
   ]
  },
  {
   "cell_type": "code",
   "execution_count": 33,
   "metadata": {},
   "outputs": [
    {
     "name": "stdout",
     "output_type": "stream",
     "text": [
      "1550                           [mention, mention, mention, hmmm, fast, appl, build, new, store, time, sxsw, link]\n",
      "2860                 [googl, see, search, engin, organ, inform, give, path, innov, new, product, savebrand, sxsw]\n",
      "3550                      [mention, heard, downtown, locat, sold, 1m, merchandis, last, night, sxsw, appl, ipad2]\n",
      "1701                                [sxswnui, sxsw, appl, defin, languag, touch, differ, dialect, becom, smaller]\n",
      "3423                                                                   [hey, jen, hear, googl, circl, sxsw, link]\n",
      "6899                                                      [rt, mention, launch, product, sxsw, plenti, els, link]\n",
      "726     [gotta, get, rt, mention, hey, taariq, howdi, texa, fav, sxsw, app, link, lt, android, get, iphon, usguy]\n",
      "8060                                     [25, indi, song, rock, variou, artist, sxsw, featur, artist, link, itun]\n",
      "3919     [hang, mention, check, awesom, new, iphon, app, ask, around, sxsw, mention, six, loung, 10, other, link]\n",
      "172                                                                         [ipad2, sxsw, conflagr, doofus, link]\n",
      "Name: tweet_stemmed, dtype: object\n"
     ]
    }
   ],
   "source": [
    "# Filter rows that contain 'sxsw' in 'tweet_stemmed' column\n",
    "sxsw_filtered_df = df[df['tweet_stemmed'].apply(lambda x: 'sxsw' in x)]\n",
    "\n",
    "# Set the column width option to display the full content\n",
    "pd.set_option('display.max_colwidth', None)\n",
    "\n",
    "# Print a sample of rows from the filtered dataframe\n",
    "sxsw_sample_rows = sxsw_filtered_df['tweet_stemmed'].sample(n=10)  \n",
    "print(sxsw_sample_rows)"
   ]
  },
  {
   "cell_type": "code",
   "execution_count": 34,
   "metadata": {},
   "outputs": [],
   "source": [
    "#add sxsw to stop words\n",
    "stopwords_list.append('sxsw')"
   ]
  },
  {
   "cell_type": "code",
   "execution_count": 35,
   "metadata": {},
   "outputs": [
    {
     "name": "stdout",
     "output_type": "stream",
     "text": [
      "5466                             [rt, mention, appl, set, open, popup, shop, core, sxsw, action, link, via, mention, sxsw]\n",
      "3178                  [queue, ipad, instead, parti, honestli, geek, get, grip, rt, mention, ipad, take, sxsw, video, link]\n",
      "6680       [rt, mention, spearhead, japan, disast, relief, sxsw, via, twitter, amp, iphon, socialgood, philanthropi, link]\n",
      "6621    [rt, mention, rt, mention, lose, hour, tonight, sxsw, attende, blame, microsoft, appl, get, credit, fix, christma]\n",
      "6876                                                 [rt, mention, gear, sxsw, interact, trade, show, across, googl, link]\n",
      "6844                                   [rt, mention, smart, move, appl, pop, store, sxsw, ipad, come, 5pm, tomorrow, link]\n",
      "1597                                      [mention, mention, industri, parti, present, gsdm, amp, googl, austin, tx, sxsw]\n",
      "6628                  [rt, mention, rt, mention, wonder, street, closur, sxsw, made, googl, map, show, link, sxsw, austin]\n",
      "8068                       [sxsw, hotspot, klout, score, score, cluster, mention, mention, mashup, mention, mention, link]\n",
      "6779                                      [rt, mention, there, class, war, form, sxsw, ipad, owner, vs, first, gen, owner]\n",
      "Name: tweet_stemmed, dtype: object\n"
     ]
    }
   ],
   "source": [
    "# Filter rows that contain 'mention' in 'tweet_stemmed' column\n",
    "mention_filtered_df = df[df['tweet_stemmed'].apply(lambda x: 'mention' in x)]\n",
    "\n",
    "# Print a sample of rows from the filtered dataframe\n",
    "mention_sample_rows = mention_filtered_df['tweet_stemmed'].sample(n=10)  \n",
    "print(mention_sample_rows)"
   ]
  },
  {
   "cell_type": "code",
   "execution_count": 36,
   "metadata": {},
   "outputs": [],
   "source": [
    "#add mention to stop words\n",
    "stopwords_list.append('mention')"
   ]
  },
  {
   "cell_type": "code",
   "execution_count": 37,
   "metadata": {},
   "outputs": [
    {
     "name": "stdout",
     "output_type": "stream",
     "text": [
      "6599    [rt, mention, rt, mention, amp, googl, mention, amp, bing, mention, rank, sxsw, session, mon, 12, 30pm, link]\n",
      "2173                                                  [launch, ipad, app, sxsw, get, detail, first, edit, free, link]\n",
      "7859                                        [mindjet, go, sxsw, give, away, bunch, stuff, includ, ipad, detail, link]\n",
      "8108                                                     [appl, austin, popup, store, line, corner, sxsw, ipad, link]\n",
      "1697                                                                         [mention, sxsw, free, tunag, itun, link]\n",
      "4229                                     [appl, employe, psych, line, pop, shop, sxsw, moment, ipad, goe, sale, link]\n",
      "1470                                       [link, ã_, edchat, musedchat, sxsw, sxswi, classic, newtwitt, rt, mention]\n",
      "3021                  [appl, offer, free, itun, sampler, ahead, sxsw, featur, new, artist, link, via, mention, music]\n",
      "3884                                                      [love, hello, holler, gram, ipad, link, via, mention, sxsw]\n",
      "2862         [good, meet, see, mention, forget, mindjet, give, away, ipad, best, mindmanag, map, sxswi, detail, link]\n",
      "Name: tweet_stemmed, dtype: object\n"
     ]
    }
   ],
   "source": [
    "# Filter rows that contain 'link' in 'tweet_stemmed' column\n",
    "link_filtered_df = df[df['tweet_stemmed'].apply(lambda x: 'link' in x)]\n",
    "\n",
    "# Print a sample of rows from the filtered dataframe\n",
    "link_sample_rows = link_filtered_df['tweet_stemmed'].sample(n=10)  \n",
    "print(link_sample_rows)"
   ]
  },
  {
   "cell_type": "code",
   "execution_count": 38,
   "metadata": {},
   "outputs": [],
   "source": [
    "#add link to stop words\n",
    "stopwords_list.append('link')"
   ]
  },
  {
   "cell_type": "code",
   "execution_count": 39,
   "metadata": {},
   "outputs": [
    {
     "name": "stdout",
     "output_type": "stream",
     "text": [
      "4358                                 [inde, info, mention, appleatxdt, rt, mention, wit, spectacl, appl, popup, store, sxsw, link]\n",
      "5041    [rt, mention, rt, mention, quot, googl, tweet, quot, new, quot, think, speak, quot, mark, belinski, 911tweet, panel, sxsw]\n",
      "6705                             [rt, mention, sxsw, recap, day, greaaat, explor, brand, mascot, digit, age, link, sxsw, hotsheet]\n",
      "8171       [gd, idea, rt, mention, quot, googl, tweet, quot, new, quot, think, speak, quot, mark, belinski, 911tweet, panel, sxsw]\n",
      "5627                                                                  [rt, mention, come, googl, zone, sxsw, set, dodgebal, court]\n",
      "6007                  [rt, mention, hey, austin, know, littl, iphon, android, love, music, amp, wanna, make, 20, hour, sxsw, sure]\n",
      "5233                                     [rt, mention, googl, connect, digit, amp, physic, world, mobil, link, via, mention, sxsw]\n",
      "6749                                                                [rt, mention, ipad, take, sxsw, video, link, appl, ipad, sxsw]\n",
      "6285                               [rt, mention, make, sure, donat, japanes, red, cross, japan, link, sxswcare, sxsw, quak, thank]\n",
      "5601                      [rt, mention, catch, talk, text, speech, android, amp, chrome, leagu, extraordinari, hacker, link, sxsw]\n",
      "Name: tweet_stemmed, dtype: object\n"
     ]
    }
   ],
   "source": [
    "# Filter rows that contain 'rt' in 'tweet_stemmed' column\n",
    "rt_filtered_df = df[df['tweet_stemmed'].apply(lambda x: 'rt' in x)]\n",
    "\n",
    "# Print a sample of rows from the filtered dataframe\n",
    "rt_sample_rows = rt_filtered_df['tweet_stemmed'].sample(n=10)  \n",
    "print(rt_sample_rows)"
   ]
  },
  {
   "cell_type": "code",
   "execution_count": 40,
   "metadata": {},
   "outputs": [],
   "source": [
    "#add rt to stop words\n",
    "stopwords_list.append('rt')"
   ]
  },
  {
   "cell_type": "code",
   "execution_count": 41,
   "metadata": {},
   "outputs": [
    {
     "name": "stdout",
     "output_type": "stream",
     "text": [
      "5797                                                   [ht, mention, googl, launch, quot, circl, quot, intrigu, wari, link, sxsw]\n",
      "3848                             [hope, quot, photobooth, quot, make, googl, gsdm, industri, parti, mention, monday, night, sxsw]\n",
      "5190                                                       [rt, mention, quot, ipad, dj, work, etsi, parti, quot, realtalk, sxsw]\n",
      "4272                                           [googl, marissa, mayer, mobil, contextu, discoveri, quot, power, quot, sxsw, link]\n",
      "5482                                   [rt, mention, appl, quot, classiest, fascist, compani, america, quot, kara, swisher, sxsw]\n",
      "6600    [rt, mention, rt, mention, reaction, googl, circl, news, far, rang, quot, quot, quot, pleas, rescu, facebook, quot, sxsw]\n",
      "3665                     [time, mention, wrote, mention, articl, us, dub, filmast, quot, foursquar, cinemaphil, quot, link, sxsw]\n",
      "523                                                                          [quot, win, free, ipad, webdoc, com, sxsw, rt, quot]\n",
      "4092                                                         [quot, appl, eleg, fascist, compani, america, quot, flipboard, sxsw]\n",
      "7861                                      [quot, googl, bing, amp, panel, like, world, expens, seo, consult, quot, mention, sxsw]\n",
      "Name: tweet_stemmed, dtype: object\n"
     ]
    }
   ],
   "source": [
    "# Filter rows that contain 'quot' in 'tweet_stemmed' column\n",
    "quot_filtered_df = df[df['tweet_stemmed'].apply(lambda x: 'quot' in x)]\n",
    "\n",
    "# Print a sample of rows from the filtered dataframe\n",
    "quot_sample_rows = quot_filtered_df['tweet_stemmed'].sample(n=10)  \n",
    "print(quot_sample_rows)"
   ]
  },
  {
   "cell_type": "code",
   "execution_count": 42,
   "metadata": {},
   "outputs": [],
   "source": [
    "#add quot to stop words\n",
    "stopwords_list.append('quot')"
   ]
  },
  {
   "cell_type": "code",
   "execution_count": 43,
   "metadata": {},
   "outputs": [
    {
     "data": {
      "image/png": "[encoded data removed]",
      "text/plain": [
       "<Figure size 432x288 with 1 Axes>"
      ]
     },
     "metadata": {
      "needs_background": "light"
     },
     "output_type": "display_data"
    }
   ],
   "source": [
    "#update variable of cleaned text\n",
    "tweet_words_stopped = [word for row in df['tweet_stemmed'] for word in row if word not in stopwords_list]\n",
    "\n",
    "#create a frequency distribution of the updated stopped words list\n",
    "tweet_stopped_freqdist = FreqDist(tweet_words_stopped)\n",
    "\n",
    "# Plot the top 10 updated tokens\n",
    "visualize_top_10(tweet_stopped_freqdist, \"Top 10 Word Frequency\")"
   ]
  },
  {
   "cell_type": "markdown",
   "metadata": {},
   "source": [
    "Now that the most frequent words seem to better apply to the text of tweets that provide context, the next thing we do is visually inspect these words categorized by sentiment. "
   ]
  },
  {
   "cell_type": "code",
   "execution_count": 44,
   "metadata": {},
   "outputs": [],
   "source": [
    "#list of cleaned words from positive sentiment rows \n",
    "positive_tweet_words = [word for index, row in df.iterrows() if row['sentiment'] == 'Positive' for word in row['tweet_stemmed'] if word not in stopwords_list]\n",
    "\n",
    "#create a frequency distribution of the positive words list\n",
    "positive_tweet_freqdist = FreqDist(positive_tweet_words)\n",
    "\n",
    "#list of cleaned words from negative sentiment rows \n",
    "negative_tweet_words = [word for index, row in df.iterrows() if row['sentiment'] == 'Negative' for word in row['tweet_stemmed'] if word not in stopwords_list]\n",
    "\n",
    "#create a frequency distribution of the negative words list\n",
    "negative_tweet_freqdist = FreqDist(negative_tweet_words)\n",
    "\n",
    "#list of cleaned words from neutral sentiment rows \n",
    "neutral_tweet_words = [word for index, row in df.iterrows() if row['sentiment'] == 'Neutral' for word in row['tweet_stemmed'] if word not in stopwords_list]\n",
    "\n",
    "#create a frequency distribution of the neutral words list\n",
    "neutral_tweet_freqdist = FreqDist(neutral_tweet_words)"
   ]
  },
  {
   "cell_type": "code",
   "execution_count": 45,
   "metadata": {},
   "outputs": [
    {
     "data": {
      "image/png": "[encoded data removed]",
      "text/plain": [
       "<Figure size 1296x360 with 3 Axes>"
      ]
     },
     "metadata": {
      "needs_background": "light"
     },
     "output_type": "display_data"
    }
   ],
   "source": [
    "# Create subplots for the three graphs\n",
    "fig, ax = plt.subplots(1, 3, figsize=(18, 5))\n",
    "\n",
    "# Plot the top 10 word frequency for positive sentiment\n",
    "ax[0].bar(*zip(*positive_tweet_freqdist.most_common(10)))\n",
    "ax[0].set_title('Positive Sentiment')\n",
    "\n",
    "# Plot the top 10 word frequency for negative sentiment\n",
    "ax[1].bar(*zip(*negative_tweet_freqdist.most_common(10)))\n",
    "ax[1].set_title('Negative Sentiment')\n",
    "\n",
    "# Plot the top 10 word frequency for neutral sentiment\n",
    "ax[2].bar(*zip(*neutral_tweet_freqdist.most_common(10)))\n",
    "ax[2].set_title('Neutral Sentiment')\n",
    "\n",
    "# Set common x-label and y-label for all subplots\n",
    "fig.text(0.5, 0.00, 'Word', ha='center')\n",
    "fig.text(0.00, 0.5, 'Frequency', va='center', rotation='vertical')\n",
    "\n",
    "# Adjust spacing between subplots\n",
    "plt.tight_layout()\n",
    "\n",
    "# Show the plot\n",
    "plt.show()"
   ]
  },
  {
   "cell_type": "markdown",
   "metadata": {},
   "source": [
    "As we can see in the graphs, there is a lot of crossover between the three different sentiments for 10 most frequent words, and most of them are of course the names of the brands and products. While the ipad2 seems to only appear in the positive sentiment as a member of the 10 most frequent, which could bet telling about that product, more inspection needs to be done. Next we removed names of the companies and broad products to see which new words would take their place in the graphs and if we would learn anything new. "
   ]
  },
  {
   "cell_type": "code",
   "execution_count": 46,
   "metadata": {},
   "outputs": [],
   "source": [
    "#create a list of brand names\n",
    "brands_list = ['ipad', 'appl', 'googl', 'iphon', 'app']\n",
    "\n",
    "#remove them from the existing lists \n",
    "positive_tweet_words = [word for word in positive_tweet_words if word not in brands_list]\n",
    "negative_tweet_words = [word for word in negative_tweet_words if word not in brands_list]\n",
    "neutral_tweet_words = [word for word in neutral_tweet_words if word not in brands_list]\n",
    "\n",
    "#update the FreqDist action \n",
    "positive_tweet_freqdist = FreqDist(positive_tweet_words)\n",
    "negative_tweet_freqdist = FreqDist(negative_tweet_words)\n",
    "neutral_tweet_freqdist = FreqDist(neutral_tweet_words)"
   ]
  },
  {
   "cell_type": "code",
   "execution_count": 47,
   "metadata": {},
   "outputs": [
    {
     "data": {
      "image/png": "[encoded data removed]",
      "text/plain": [
       "<Figure size 1296x360 with 3 Axes>"
      ]
     },
     "metadata": {
      "needs_background": "light"
     },
     "output_type": "display_data"
    }
   ],
   "source": [
    "# Create subplots for the three graphs\n",
    "fig, ax = plt.subplots(1, 3, figsize=(18, 5))\n",
    "\n",
    "# Plot the top 10 word frequency for positive sentiment\n",
    "ax[0].bar(*zip(*positive_tweet_freqdist.most_common(10)))\n",
    "ax[0].set_title('Positive Sentiment')\n",
    "\n",
    "# Plot the top 10 word frequency for negative sentiment\n",
    "ax[1].bar(*zip(*negative_tweet_freqdist.most_common(10)))\n",
    "ax[1].set_title('Negative Sentiment')\n",
    "\n",
    "# Plot the top 10 word frequency for neutral sentiment\n",
    "ax[2].bar(*zip(*neutral_tweet_freqdist.most_common(10)))\n",
    "ax[2].set_title('Neutral Sentiment')\n",
    "\n",
    "# Set common x-label and y-label for all subplots\n",
    "fig.text(0.5, 0.00, 'Word', ha='center')\n",
    "fig.text(0.00, 0.5, 'Frequency', va='center', rotation='vertical')\n",
    "\n",
    "# Adjust spacing between subplots\n",
    "plt.tight_layout()\n",
    "\n",
    "# Show the plot\n",
    "plt.show()"
   ]
  },
  {
   "cell_type": "markdown",
   "metadata": {},
   "source": [
    "We're starting to see a little bit more information. For instance, ipad2 remains a likely indicator of a positive sentiment, while the word \"need\" seems to indicate the tweet is more likely to be negative. Interestingly, mention of the android also seems to more likely indicate a positive tweet. "
   ]
  },
  {
   "cell_type": "code",
   "execution_count": 57,
   "metadata": {},
   "outputs": [
    {
     "ename": "AttributeError",
     "evalue": "'ImageDraw' object has no attribute 'textbbox'",
     "output_type": "error",
     "traceback": [
      "\u001b[0;31m---------------------------------------------------------------------------\u001b[0m",
      "\u001b[0;31mAttributeError\u001b[0m                            Traceback (most recent call last)",
      "\u001b[0;32m<ipython-input-57-20afc9677b92>\u001b[0m in \u001b[0;36m<module>\u001b[0;34m\u001b[0m\n\u001b[1;32m      3\u001b[0m \u001b[0;34m\u001b[0m\u001b[0m\n\u001b[1;32m      4\u001b[0m \u001b[0;31m# Generate the word cloud\u001b[0m\u001b[0;34m\u001b[0m\u001b[0;34m\u001b[0m\u001b[0;34m\u001b[0m\u001b[0m\n\u001b[0;32m----> 5\u001b[0;31m \u001b[0mpositive_wordcloud\u001b[0m \u001b[0;34m=\u001b[0m \u001b[0mWordCloud\u001b[0m\u001b[0;34m(\u001b[0m\u001b[0;34m)\u001b[0m\u001b[0;34m.\u001b[0m\u001b[0mfit_words\u001b[0m\u001b[0;34m(\u001b[0m\u001b[0mpositive_word_counts\u001b[0m\u001b[0;34m)\u001b[0m\u001b[0;34m\u001b[0m\u001b[0;34m\u001b[0m\u001b[0m\n\u001b[0m\u001b[1;32m      6\u001b[0m \u001b[0;34m\u001b[0m\u001b[0m\n\u001b[1;32m      7\u001b[0m \u001b[0;31m# Display the word cloud\u001b[0m\u001b[0;34m\u001b[0m\u001b[0;34m\u001b[0m\u001b[0;34m\u001b[0m\u001b[0m\n",
      "\u001b[0;32m~/anaconda3/envs/learn-env/lib/python3.8/site-packages/wordcloud/wordcloud.py\u001b[0m in \u001b[0;36mfit_words\u001b[0;34m(self, frequencies)\u001b[0m\n\u001b[1;32m    387\u001b[0m         \u001b[0mself\u001b[0m\u001b[0;34m\u001b[0m\u001b[0;34m\u001b[0m\u001b[0m\n\u001b[1;32m    388\u001b[0m         \"\"\"\n\u001b[0;32m--> 389\u001b[0;31m         \u001b[0;32mreturn\u001b[0m \u001b[0mself\u001b[0m\u001b[0;34m.\u001b[0m\u001b[0mgenerate_from_frequencies\u001b[0m\u001b[0;34m(\u001b[0m\u001b[0mfrequencies\u001b[0m\u001b[0;34m)\u001b[0m\u001b[0;34m\u001b[0m\u001b[0;34m\u001b[0m\u001b[0m\n\u001b[0m\u001b[1;32m    390\u001b[0m \u001b[0;34m\u001b[0m\u001b[0m\n\u001b[1;32m    391\u001b[0m     \u001b[0;32mdef\u001b[0m \u001b[0mgenerate_from_frequencies\u001b[0m\u001b[0;34m(\u001b[0m\u001b[0mself\u001b[0m\u001b[0;34m,\u001b[0m \u001b[0mfrequencies\u001b[0m\u001b[0;34m,\u001b[0m \u001b[0mmax_font_size\u001b[0m\u001b[0;34m=\u001b[0m\u001b[0;32mNone\u001b[0m\u001b[0;34m)\u001b[0m\u001b[0;34m:\u001b[0m  \u001b[0;31m# noqa: C901\u001b[0m\u001b[0;34m\u001b[0m\u001b[0;34m\u001b[0m\u001b[0m\n",
      "\u001b[0;32m~/anaconda3/envs/learn-env/lib/python3.8/site-packages/wordcloud/wordcloud.py\u001b[0m in \u001b[0;36mgenerate_from_frequencies\u001b[0;34m(self, frequencies, max_font_size)\u001b[0m\n\u001b[1;32m    451\u001b[0m                 \u001b[0mfont_size\u001b[0m \u001b[0;34m=\u001b[0m \u001b[0mself\u001b[0m\u001b[0;34m.\u001b[0m\u001b[0mheight\u001b[0m\u001b[0;34m\u001b[0m\u001b[0;34m\u001b[0m\u001b[0m\n\u001b[1;32m    452\u001b[0m             \u001b[0;32melse\u001b[0m\u001b[0;34m:\u001b[0m\u001b[0;34m\u001b[0m\u001b[0;34m\u001b[0m\u001b[0m\n\u001b[0;32m--> 453\u001b[0;31m                 self.generate_from_frequencies(dict(frequencies[:2]),\n\u001b[0m\u001b[1;32m    454\u001b[0m                                                max_font_size=self.height)\n\u001b[1;32m    455\u001b[0m                 \u001b[0;31m# find font sizes\u001b[0m\u001b[0;34m\u001b[0m\u001b[0;34m\u001b[0m\u001b[0;34m\u001b[0m\u001b[0m\n",
      "\u001b[0;32m~/anaconda3/envs/learn-env/lib/python3.8/site-packages/wordcloud/wordcloud.py\u001b[0m in \u001b[0;36mgenerate_from_frequencies\u001b[0;34m(self, frequencies, max_font_size)\u001b[0m\n\u001b[1;32m    509\u001b[0m                     font, orientation=orientation)\n\u001b[1;32m    510\u001b[0m                 \u001b[0;31m# get size of resulting text\u001b[0m\u001b[0;34m\u001b[0m\u001b[0;34m\u001b[0m\u001b[0;34m\u001b[0m\u001b[0m\n\u001b[0;32m--> 511\u001b[0;31m                 \u001b[0mbox_size\u001b[0m \u001b[0;34m=\u001b[0m \u001b[0mdraw\u001b[0m\u001b[0;34m.\u001b[0m\u001b[0mtextbbox\u001b[0m\u001b[0;34m(\u001b[0m\u001b[0;34m(\u001b[0m\u001b[0;36m0\u001b[0m\u001b[0;34m,\u001b[0m \u001b[0;36m0\u001b[0m\u001b[0;34m)\u001b[0m\u001b[0;34m,\u001b[0m \u001b[0mword\u001b[0m\u001b[0;34m,\u001b[0m \u001b[0mfont\u001b[0m\u001b[0;34m=\u001b[0m\u001b[0mtransposed_font\u001b[0m\u001b[0;34m,\u001b[0m \u001b[0manchor\u001b[0m\u001b[0;34m=\u001b[0m\u001b[0;34m\"lt\"\u001b[0m\u001b[0;34m)\u001b[0m\u001b[0;34m\u001b[0m\u001b[0;34m\u001b[0m\u001b[0m\n\u001b[0m\u001b[1;32m    512\u001b[0m                 \u001b[0;31m# find possible places using integral image:\u001b[0m\u001b[0;34m\u001b[0m\u001b[0;34m\u001b[0m\u001b[0;34m\u001b[0m\u001b[0m\n\u001b[1;32m    513\u001b[0m                 result = occupancy.sample_position(box_size[3] + self.margin,\n",
      "\u001b[0;31mAttributeError\u001b[0m: 'ImageDraw' object has no attribute 'textbbox'"
     ]
    }
   ],
   "source": [
    "# Count the frequency of each word\n",
    "positive_word_counts = Counter(positive_tweet_words)\n",
    "\n",
    "# Generate the word cloud\n",
    "positive_wordcloud = WordCloud().fit_words(positive_word_counts)\n",
    "\n",
    "# Display the word cloud\n",
    "plt.imshow(positive_wordcloud, interpolation='bilinear')\n",
    "plt.axis('off')\n",
    "plt.show()"
   ]
  }
 ],
 "metadata": {
  "kernelspec": {
   "display_name": "Python (learn-env)",
   "language": "python",
   "name": "learn-env"
  },
  "language_info": {
   "codemirror_mode": {
    "name": "ipython",
    "version": 3
   },
   "file_extension": ".py",
   "mimetype": "text/x-python",
   "name": "python",
   "nbconvert_exporter": "python",
   "pygments_lexer": "ipython3",
   "version": "3.8.5"
  }
 },
 "nbformat": 4,
 "nbformat_minor": 4
}
